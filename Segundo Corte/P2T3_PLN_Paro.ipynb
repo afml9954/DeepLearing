{
  "nbformat": 4,
  "nbformat_minor": 0,
  "metadata": {
    "colab": {
      "name": "P2T3_PLN_Paro.ipynb",
      "provenance": [],
      "collapsed_sections": []
    },
    "kernelspec": {
      "name": "python3",
      "display_name": "Python 3"
    },
    "language_info": {
      "name": "python"
    }
  },
  "cells": [
    {
      "cell_type": "markdown",
      "metadata": {
        "id": "YJ8rr1KVxUcV"
      },
      "source": [
        "# Procesamiento de Lenguaje Natural | Análisis de Sentimientos con Twitter (es)"
      ]
    },
    {
      "cell_type": "markdown",
      "metadata": {
        "id": "qDQ0Nne9zAUJ"
      },
      "source": [
        "## Importar librerías"
      ]
    },
    {
      "cell_type": "code",
      "metadata": {
        "colab": {
          "base_uri": "https://localhost:8080/"
        },
        "id": "qsSnxuTUxMes",
        "outputId": "973fcf25-650a-4816-d2d9-d89a8d9b3d22"
      },
      "source": [
        "!pip install pyprind"
      ],
      "execution_count": null,
      "outputs": [
        {
          "output_type": "stream",
          "text": [
            "Collecting pyprind\n",
            "  Downloading https://files.pythonhosted.org/packages/ab/b3/1f12ebc5009c65b607509393ad98240728b4401bc3593868fb161fdd3760/PyPrind-2.11.3-py2.py3-none-any.whl\n",
            "Installing collected packages: pyprind\n",
            "Successfully installed pyprind-2.11.3\n"
          ],
          "name": "stdout"
        }
      ]
    },
    {
      "cell_type": "code",
      "metadata": {
        "id": "gjQHB9K803yH"
      },
      "source": [
        "import os\n",
        "import sys\n",
        "import tarfile\n",
        "import time\n",
        "import re\n",
        "import pyprind\n",
        "import numpy as np\n",
        "import pandas as pd"
      ],
      "execution_count": null,
      "outputs": []
    },
    {
      "cell_type": "code",
      "metadata": {
        "id": "I7SWDL0K1SBV"
      },
      "source": [
        "import tweepy as tw"
      ],
      "execution_count": null,
      "outputs": []
    },
    {
      "cell_type": "markdown",
      "metadata": {
        "id": "HCP85YaszFgl"
      },
      "source": [
        "### Habilitar Google Drive"
      ]
    },
    {
      "cell_type": "code",
      "metadata": {
        "colab": {
          "base_uri": "https://localhost:8080/"
        },
        "id": "KFoq9mSjzKDj",
        "outputId": "8471898c-4fa1-4989-d125-654fbff0f608"
      },
      "source": [
        "from google.colab import drive\n",
        "drive.mount('/content/drive')"
      ],
      "execution_count": null,
      "outputs": [
        {
          "output_type": "stream",
          "text": [
            "Mounted at /content/drive\n"
          ],
          "name": "stdout"
        }
      ]
    },
    {
      "cell_type": "markdown",
      "metadata": {
        "id": "GHM8NbUi1Xpe"
      },
      "source": [
        "## Obtener permisos de la API de Twetter"
      ]
    },
    {
      "cell_type": "code",
      "metadata": {
        "id": "SlrzdpGJ1b_y"
      },
      "source": [
        "consumer_key = 'u9wwsCjQq7BgY6MVTyMMrWCTD'\n",
        "consumer_secret = '15fch9r8e8FokSnV5tUbyBkHvl0c3ggfJO1XoR0pMsRrORznyB'\n",
        "access_token = '1358586629770928139-tKoBpNFnxWxV9ROmji8LJ1npKpHxky'\n",
        "access_token_secret = 'AERm0fJt2WClhZe4YxIs66I1A3RtDcbw3Ej9cYcWO85bq'\n",
        "\n",
        "auth = tw.OAuthHandler(consumer_key, consumer_secret)\n",
        "auth.set_access_token(access_token, access_token_secret)\n",
        "\n",
        "api = tw.API(auth, wait_on_rate_limit=True)"
      ],
      "execution_count": null,
      "outputs": []
    },
    {
      "cell_type": "markdown",
      "metadata": {
        "id": "lXxaVDJo100n"
      },
      "source": [
        "## Obtener tweets"
      ]
    },
    {
      "cell_type": "markdown",
      "metadata": {
        "id": "L3tZSSuiXDJm"
      },
      "source": [
        "### El Conjuro "
      ]
    },
    {
      "cell_type": "code",
      "metadata": {
        "id": "eyV2zejF1maM"
      },
      "source": [
        "search_words = '#ElConjuro' + '-filter:retweets'\n",
        "date_since = '2020-01-01'\n",
        "\n",
        "tweets = tw.Cursor(api.search, search_words, 'es', date_since).items(10000)"
      ],
      "execution_count": null,
      "outputs": []
    },
    {
      "cell_type": "code",
      "metadata": {
        "id": "4f-zGJjL2eKW",
        "colab": {
          "base_uri": "https://localhost:8080/",
          "height": 483
        },
        "outputId": "b5e81211-11b5-44e3-c0f7-19c77a17768b"
      },
      "source": [
        "data = [[tweet.user.screen_name, tweet.user.location, tweet.text] for tweet in tweets]\n",
        "\n",
        "tw_df = pd.DataFrame(data=data, columns=['User', 'Location', 'Text'])\n",
        "tw_df"
      ],
      "execution_count": null,
      "outputs": [
        {
          "output_type": "execute_result",
          "data": {
            "text/html": [
              "<div>\n",
              "<style scoped>\n",
              "    .dataframe tbody tr th:only-of-type {\n",
              "        vertical-align: middle;\n",
              "    }\n",
              "\n",
              "    .dataframe tbody tr th {\n",
              "        vertical-align: top;\n",
              "    }\n",
              "\n",
              "    .dataframe thead th {\n",
              "        text-align: right;\n",
              "    }\n",
              "</style>\n",
              "<table border=\"1\" class=\"dataframe\">\n",
              "  <thead>\n",
              "    <tr style=\"text-align: right;\">\n",
              "      <th></th>\n",
              "      <th>User</th>\n",
              "      <th>Location</th>\n",
              "      <th>Text</th>\n",
              "    </tr>\n",
              "  </thead>\n",
              "  <tbody>\n",
              "    <tr>\n",
              "      <th>0</th>\n",
              "      <td>clradiocom</td>\n",
              "      <td>Chile</td>\n",
              "      <td>#CineyTV Tráiler de \"Expediente Warren: Obliga...</td>\n",
              "    </tr>\n",
              "    <tr>\n",
              "      <th>1</th>\n",
              "      <td>yo_kevinazo</td>\n",
              "      <td></td>\n",
              "      <td>No sé si aquí me van a vacunar o a exorcizarme...</td>\n",
              "    </tr>\n",
              "    <tr>\n",
              "      <th>2</th>\n",
              "      <td>CinafilmEspanol</td>\n",
              "      <td>Birmingham, England</td>\n",
              "      <td>El conjuro (2013) - Leer 1,149 Críticas de Pel...</td>\n",
              "    </tr>\n",
              "    <tr>\n",
              "      <th>3</th>\n",
              "      <td>RED92cadadiamas</td>\n",
              "      <td>La Plata - Buenos Aires - ARG</td>\n",
              "      <td>😰📽🎞 | #Warren | #ElConjuro | #TheConjuring | #...</td>\n",
              "    </tr>\n",
              "    <tr>\n",
              "      <th>4</th>\n",
              "      <td>Moni_Buenfil</td>\n",
              "      <td>Irapuato, Guanajuato</td>\n",
              "      <td>Participa en el sorteo #ElConjuro @acme_vlogs ...</td>\n",
              "    </tr>\n",
              "    <tr>\n",
              "      <th>5</th>\n",
              "      <td>RevistaRayas</td>\n",
              "      <td>Puebla, México</td>\n",
              "      <td>😱🤩 ¡Morimos de miedo y de ganas de verla! \\n\\n...</td>\n",
              "    </tr>\n",
              "    <tr>\n",
              "      <th>6</th>\n",
              "      <td>PactoCopernico</td>\n",
              "      <td>La Plata</td>\n",
              "      <td>Ayer, en @PactoCopernico el querido @RodrigoGF...</td>\n",
              "    </tr>\n",
              "    <tr>\n",
              "      <th>7</th>\n",
              "      <td>Hernan_moyano</td>\n",
              "      <td>La Plata</td>\n",
              "      <td>Ayer, en @PactoCopernico el querido @RodrigoGF...</td>\n",
              "    </tr>\n",
              "    <tr>\n",
              "      <th>8</th>\n",
              "      <td>clradiocom</td>\n",
              "      <td>Chile</td>\n",
              "      <td>#CineyTV Tráiler de \"Expediente Warren: Obliga...</td>\n",
              "    </tr>\n",
              "    <tr>\n",
              "      <th>9</th>\n",
              "      <td>DoppelgangerEl</td>\n",
              "      <td></td>\n",
              "      <td>En minutos les cuento mis apreciaciones sobre ...</td>\n",
              "    </tr>\n",
              "    <tr>\n",
              "      <th>10</th>\n",
              "      <td>culturageek</td>\n",
              "      <td>Buenos Aires</td>\n",
              "      <td>#Comics #Cine #DCComics #TheConjuring\\n-\\n#ElC...</td>\n",
              "    </tr>\n",
              "    <tr>\n",
              "      <th>11</th>\n",
              "      <td>t23augusto</td>\n",
              "      <td>Buenos Aires</td>\n",
              "      <td>#Comics #Cine #DCComics #TheConjuring\\n-\\n#ElC...</td>\n",
              "    </tr>\n",
              "    <tr>\n",
              "      <th>12</th>\n",
              "      <td>CinafilmEspanol</td>\n",
              "      <td>Birmingham, England</td>\n",
              "      <td>El conjuro (2013) - Leer 1,149 Críticas de Pel...</td>\n",
              "    </tr>\n",
              "    <tr>\n",
              "      <th>13</th>\n",
              "      <td>clradiocom</td>\n",
              "      <td>Chile</td>\n",
              "      <td>#CineyTV Tráiler de \"Expediente Warren: Obliga...</td>\n",
              "    </tr>\n",
              "  </tbody>\n",
              "</table>\n",
              "</div>"
            ],
            "text/plain": [
              "               User  ...                                               Text\n",
              "0        clradiocom  ...  #CineyTV Tráiler de \"Expediente Warren: Obliga...\n",
              "1       yo_kevinazo  ...  No sé si aquí me van a vacunar o a exorcizarme...\n",
              "2   CinafilmEspanol  ...  El conjuro (2013) - Leer 1,149 Críticas de Pel...\n",
              "3   RED92cadadiamas  ...  😰📽🎞 | #Warren | #ElConjuro | #TheConjuring | #...\n",
              "4      Moni_Buenfil  ...  Participa en el sorteo #ElConjuro @acme_vlogs ...\n",
              "5      RevistaRayas  ...  😱🤩 ¡Morimos de miedo y de ganas de verla! \\n\\n...\n",
              "6    PactoCopernico  ...  Ayer, en @PactoCopernico el querido @RodrigoGF...\n",
              "7     Hernan_moyano  ...  Ayer, en @PactoCopernico el querido @RodrigoGF...\n",
              "8        clradiocom  ...  #CineyTV Tráiler de \"Expediente Warren: Obliga...\n",
              "9    DoppelgangerEl  ...  En minutos les cuento mis apreciaciones sobre ...\n",
              "10      culturageek  ...  #Comics #Cine #DCComics #TheConjuring\\n-\\n#ElC...\n",
              "11       t23augusto  ...  #Comics #Cine #DCComics #TheConjuring\\n-\\n#ElC...\n",
              "12  CinafilmEspanol  ...  El conjuro (2013) - Leer 1,149 Críticas de Pel...\n",
              "13       clradiocom  ...  #CineyTV Tráiler de \"Expediente Warren: Obliga...\n",
              "\n",
              "[14 rows x 3 columns]"
            ]
          },
          "metadata": {
            "tags": []
          },
          "execution_count": 8
        }
      ]
    },
    {
      "cell_type": "code",
      "metadata": {
        "id": "bqprAnqx3m-F"
      },
      "source": [
        "tw_df.to_csv('/content/drive/MyDrive/Colab Notebooks/El_Conjuro.csv', index=False, encoding='utf-8')"
      ],
      "execution_count": null,
      "outputs": []
    },
    {
      "cell_type": "markdown",
      "metadata": {
        "id": "lOot_gUyXFn4"
      },
      "source": [
        "### Nos Estan Matando"
      ]
    },
    {
      "cell_type": "code",
      "metadata": {
        "id": "wSftr27ZXvin"
      },
      "source": [
        "search_words = '#NosEstanMatando' + '-filter:retweets'\n",
        "date_since = '2021-01-01'\n",
        "\n",
        "tweets = tw.Cursor(api.search, search_words, 'es', date_since).items(5000)"
      ],
      "execution_count": null,
      "outputs": []
    },
    {
      "cell_type": "code",
      "metadata": {
        "id": "k-esXDRgXvio",
        "colab": {
          "base_uri": "https://localhost:8080/",
          "height": 419
        },
        "outputId": "01bfa2d5-ebb5-44cf-c73d-3d455e476b9c"
      },
      "source": [
        "data = [[tweet.user.screen_name, tweet.user.location, tweet.text] for tweet in tweets]\n",
        "\n",
        "tw_df = pd.DataFrame(data=data, columns=['User', 'Location', 'Text'])\n",
        "tw_df"
      ],
      "execution_count": null,
      "outputs": [
        {
          "output_type": "execute_result",
          "data": {
            "text/html": [
              "<div>\n",
              "<style scoped>\n",
              "    .dataframe tbody tr th:only-of-type {\n",
              "        vertical-align: middle;\n",
              "    }\n",
              "\n",
              "    .dataframe tbody tr th {\n",
              "        vertical-align: top;\n",
              "    }\n",
              "\n",
              "    .dataframe thead th {\n",
              "        text-align: right;\n",
              "    }\n",
              "</style>\n",
              "<table border=\"1\" class=\"dataframe\">\n",
              "  <thead>\n",
              "    <tr style=\"text-align: right;\">\n",
              "      <th></th>\n",
              "      <th>User</th>\n",
              "      <th>Location</th>\n",
              "      <th>Text</th>\n",
              "    </tr>\n",
              "  </thead>\n",
              "  <tbody>\n",
              "    <tr>\n",
              "      <th>0</th>\n",
              "      <td>BrinaWaldo</td>\n",
              "      <td>Tadó, Colombia</td>\n",
              "      <td>@0vejer0 Quisiera estar en ese mundo y no en e...</td>\n",
              "    </tr>\n",
              "    <tr>\n",
              "      <th>1</th>\n",
              "      <td>AlessaGomor</td>\n",
              "      <td>Colombia</td>\n",
              "      <td>#Justicia para todos los masacrados en #Colomb...</td>\n",
              "    </tr>\n",
              "    <tr>\n",
              "      <th>2</th>\n",
              "      <td>Santiag65436789</td>\n",
              "      <td></td>\n",
              "      <td>@HRI_ONG Hagan algo, necesitamos una intervenc...</td>\n",
              "    </tr>\n",
              "    <tr>\n",
              "      <th>3</th>\n",
              "      <td>cusithemaravish</td>\n",
              "      <td></td>\n",
              "      <td>@PoliciaColombia #SosPopayan #Popayan #Popayan...</td>\n",
              "    </tr>\n",
              "    <tr>\n",
              "      <th>4</th>\n",
              "      <td>JhonJfcardona</td>\n",
              "      <td>#Narnia #DeLaTierraDelCafé</td>\n",
              "      <td>@MariaAntonia_L @JAIMEELROJO Con el regreso d ...</td>\n",
              "    </tr>\n",
              "    <tr>\n",
              "      <th>...</th>\n",
              "      <td>...</td>\n",
              "      <td>...</td>\n",
              "      <td>...</td>\n",
              "    </tr>\n",
              "    <tr>\n",
              "      <th>604</th>\n",
              "      <td>Aldeana67944701</td>\n",
              "      <td></td>\n",
              "      <td>#NosEstanMatando Tranquila Inés María Zabarain...</td>\n",
              "    </tr>\n",
              "    <tr>\n",
              "      <th>605</th>\n",
              "      <td>ChebyEspejo</td>\n",
              "      <td>Colombia</td>\n",
              "      <td>@ESPNColombia  la vida no puede estar por enci...</td>\n",
              "    </tr>\n",
              "    <tr>\n",
              "      <th>606</th>\n",
              "      <td>ParisFranccia</td>\n",
              "      <td>Polombia</td>\n",
              "      <td>Esto es de lo peor que ha pasado durante estos...</td>\n",
              "    </tr>\n",
              "    <tr>\n",
              "      <th>607</th>\n",
              "      <td>IbeliciP</td>\n",
              "      <td></td>\n",
              "      <td>«Cuando la tiranía es ley, la revolución es or...</td>\n",
              "    </tr>\n",
              "    <tr>\n",
              "      <th>608</th>\n",
              "      <td>ObservatorioDHP</td>\n",
              "      <td></td>\n",
              "      <td>#TodxsSomosPalestina\\n#NosEstanMatando \\nSigue...</td>\n",
              "    </tr>\n",
              "  </tbody>\n",
              "</table>\n",
              "<p>609 rows × 3 columns</p>\n",
              "</div>"
            ],
            "text/plain": [
              "                User  ...                                               Text\n",
              "0         BrinaWaldo  ...  @0vejer0 Quisiera estar en ese mundo y no en e...\n",
              "1        AlessaGomor  ...  #Justicia para todos los masacrados en #Colomb...\n",
              "2    Santiag65436789  ...  @HRI_ONG Hagan algo, necesitamos una intervenc...\n",
              "3    cusithemaravish  ...  @PoliciaColombia #SosPopayan #Popayan #Popayan...\n",
              "4      JhonJfcardona  ...  @MariaAntonia_L @JAIMEELROJO Con el regreso d ...\n",
              "..               ...  ...                                                ...\n",
              "604  Aldeana67944701  ...  #NosEstanMatando Tranquila Inés María Zabarain...\n",
              "605      ChebyEspejo  ...  @ESPNColombia  la vida no puede estar por enci...\n",
              "606    ParisFranccia  ...  Esto es de lo peor que ha pasado durante estos...\n",
              "607         IbeliciP  ...  «Cuando la tiranía es ley, la revolución es or...\n",
              "608  ObservatorioDHP  ...  #TodxsSomosPalestina\\n#NosEstanMatando \\nSigue...\n",
              "\n",
              "[609 rows x 3 columns]"
            ]
          },
          "metadata": {
            "tags": []
          },
          "execution_count": 11
        }
      ]
    },
    {
      "cell_type": "code",
      "metadata": {
        "id": "Kx8RDpnVXvip"
      },
      "source": [
        "tw_df.to_csv('/content/drive/MyDrive/Colab Notebooks/Paro_Nacional.csv', index=False, encoding='utf-8')"
      ],
      "execution_count": null,
      "outputs": []
    },
    {
      "cell_type": "markdown",
      "metadata": {
        "id": "r05ED49W5cK1"
      },
      "source": [
        "## Obtener Corpus: Corvertir XML a CSV"
      ]
    },
    {
      "cell_type": "code",
      "metadata": {
        "id": "fh1412rz5hSN"
      },
      "source": [
        "import xml.etree.ElementTree as etree\n",
        "import csv\n",
        "from os import scandir\n",
        "from sklearn.model_selection import train_test_split"
      ],
      "execution_count": null,
      "outputs": []
    },
    {
      "cell_type": "markdown",
      "metadata": {
        "id": "5VR7f6Do5wN2"
      },
      "source": [
        "### Función para listar archivos de un directorio"
      ]
    },
    {
      "cell_type": "code",
      "metadata": {
        "id": "ekaX2-jt57xZ",
        "colab": {
          "base_uri": "https://localhost:8080/"
        },
        "outputId": "cf9abe38-4294-4bea-caf0-1dda465277a6"
      },
      "source": [
        "def files_of_path(path):\n",
        "    return [obj.name for obj in os.scandir(path) if obj.is_file()]\n",
        "\n",
        "files = files_of_path('/content/drive/MyDrive/Colab Notebooks/')\n",
        "\n",
        "for file in files:\n",
        "    print(file)"
      ],
      "execution_count": null,
      "outputs": [
        {
          "output_type": "stream",
          "text": [
            "Copia de tutorial1.ipynb\n",
            "PIT1_TALLER_DEMO.ipynb\n",
            "PIT4_sklearn_regresion_lineal(load_boston).ipynb\n",
            "casa_de_papel_twitter_es.csv\n",
            "casa_de_papel_twitter_es.gsheet\n",
            "El_Conjuro.csv\n",
            "Paro_Nacional.csv\n"
          ],
          "name": "stdout"
        }
      ]
    },
    {
      "cell_type": "markdown",
      "metadata": {
        "id": "B8lFnQBVzokU"
      },
      "source": [
        "### Función para convertir listas a archivos CSV"
      ]
    },
    {
      "cell_type": "code",
      "metadata": {
        "id": "QWHVf_vPztmr"
      },
      "source": [
        "def list_to_csv(data, filename):\n",
        "    with open(filename, 'w', encoding='utf-8') as csvfile:\n",
        "        writer = csv.writer(csvfile, delimiter=',', lineterminator='\\n', quoting=csv.QUOTE_NONNUMERIC)\n",
        "        writer.writerows(data)"
      ],
      "execution_count": null,
      "outputs": []
    },
    {
      "cell_type": "markdown",
      "metadata": {
        "id": "yCkRFoq2kqXI"
      },
      "source": [
        "### Función para cargar de un CSV a una Lista (messages | labels)"
      ]
    },
    {
      "cell_type": "code",
      "metadata": {
        "id": "uJ5ENb9bkxh_"
      },
      "source": [
        "def csv_to_lists(filename):\n",
        "    messages = []\n",
        "    labels = []\n",
        "    with open(filename, 'r', encoding='utf-8') as csvfile:\n",
        "        reader = csv.reader(csvfile, delimiter=',')\n",
        "        for row in reader:\n",
        "            messages.append(row[1])\n",
        "            labels.append(row[2])\n",
        "    return messages, labels"
      ],
      "execution_count": null,
      "outputs": []
    },
    {
      "cell_type": "markdown",
      "metadata": {
        "id": "kYkckyKplUk8"
      },
      "source": [
        "### Función para parsear xml en un dataframe"
      ]
    },
    {
      "cell_type": "markdown",
      "metadata": {
        "id": "doK7TCd5lyKV"
      },
      "source": [
        "#### corpus de general tweetid | content | sentiments/polarity/value"
      ]
    },
    {
      "cell_type": "code",
      "metadata": {
        "id": "4rZTfNVsl9Wh"
      },
      "source": [
        "def general_tass_2017_to_list(filename, qrel=None):\n",
        "    tree = etree.parse(filename)\n",
        "    root = tree.getroot()\n",
        "    data = []\n",
        "\n",
        "    for tweet in root:\n",
        "        tweetId = tweet.find('tweetid').text\n",
        "        content = tweet.find('content').text\n",
        "        polarityValue = qrel[tweetId]\n",
        "        data.append([tweetId, content.replace('\\n', ' '), polarityValue])\n",
        "    \n",
        "    return data"
      ],
      "execution_count": null,
      "outputs": []
    },
    {
      "cell_type": "markdown",
      "metadata": {
        "id": "Ve886C_inQVb"
      },
      "source": [
        "#### corpus politics tweetid | content | sentiments/polarity"
      ]
    },
    {
      "cell_type": "code",
      "metadata": {
        "id": "Y4zxvr2XneB3"
      },
      "source": [
        "def politics_tass_to_list(filename):\n",
        "    tree = etree.parse(filename)\n",
        "    root = tree.getroot()\n",
        "    data = []\n",
        "\n",
        "    for tweet in root:\n",
        "        tweetId = tweet.find('tweetid').text\n",
        "        content = tweet.find('content').text\n",
        "        aux = next((e for e in tweet.findall('sentiments/polarity') if e.find('entity') == None), None)\n",
        "        if aux != None:\n",
        "            polarityValue = aux.find('value').text\n",
        "            data.append([tweetId, content.replace('\\n', ' '), polarityValue])\n",
        "    return data"
      ],
      "execution_count": null,
      "outputs": []
    },
    {
      "cell_type": "markdown",
      "metadata": {
        "id": "_ykAlpJvoest"
      },
      "source": [
        "#### corpus de internacional tweetid | content | sentiments/polarity/value"
      ]
    },
    {
      "cell_type": "code",
      "metadata": {
        "id": "iA2VhKXxopMZ"
      },
      "source": [
        "def intertass_tass_to_list(filename, qrel=None):\n",
        "    tree = etree.parse(filename)\n",
        "    root = tree.getroot()\n",
        "    data = []\n",
        "\n",
        "    for tweet in root:\n",
        "        tweetId = tweet.find('tweetid').text\n",
        "        content = tweet.find('content').text\n",
        "        polarityValue = tweet.find('sentiment/polarity/value').text\n",
        "        if polarityValue == None:\n",
        "            polarityValue = qrel[tweetId]\n",
        "            data.append([tweetId, content.replace('\\n', ' '), polarityValue])\n",
        "    return data"
      ],
      "execution_count": null,
      "outputs": []
    },
    {
      "cell_type": "markdown",
      "metadata": {
        "id": "ywn_uGA1pqh7"
      },
      "source": [
        "#### Funcion para unir los tweets corpus general test con sus sentiments"
      ]
    },
    {
      "cell_type": "code",
      "metadata": {
        "id": "6CPQ43m_pw52"
      },
      "source": [
        "def gold_standard_to_dict(filename):\n",
        "    with open(filename, 'r') as csvfile:\n",
        "        reader = csv.reader(csvfile, delimiter='\\t')\n",
        "        data = {rows[0]: rows[1] for rows in reader}\n",
        "    return data"
      ],
      "execution_count": null,
      "outputs": []
    },
    {
      "cell_type": "markdown",
      "metadata": {
        "id": "H4u1QC1oqRTB"
      },
      "source": [
        "### Función para separar el 100% del corpus entre Train(70%) y Test(30%)"
      ]
    },
    {
      "cell_type": "code",
      "metadata": {
        "id": "PML5jYi6qbU5"
      },
      "source": [
        " def generate_train_test_subsets(data, size):\n",
        "     codes = [d[0] for d in data]\n",
        "     labels = [d[2] for d in data]\n",
        "     codes_train, codes_test, labels_train, label_test = train_test_split(codes, labels, train_size=size)\n",
        "     train_data = [d for d in data if d[0] in codes_train]\n",
        "     test_data = [d for d in data if d[0] in codes_test]\n",
        "     return train_data, test_data"
      ],
      "execution_count": null,
      "outputs": []
    },
    {
      "cell_type": "markdown",
      "metadata": {
        "id": "fOcw9UYYrI-r"
      },
      "source": [
        "## Ejecutar cada función de parsear los copus y guardarlo en un CSV(full, train, test)"
      ]
    },
    {
      "cell_type": "code",
      "metadata": {
        "id": "NHiG7KXvrSZ6"
      },
      "source": [
        "data = []"
      ],
      "execution_count": null,
      "outputs": []
    },
    {
      "cell_type": "markdown",
      "metadata": {
        "id": "kKU2818hrf7r"
      },
      "source": [
        "### Parceamos el internacional TASS"
      ]
    },
    {
      "cell_type": "markdown",
      "metadata": {
        "id": "0BWHvd99tbrX"
      },
      "source": [
        "Tomamos el corpus internacional (test) y generamos una lista de ID del tweet y el sentimiento para agregarlo a la data"
      ]
    },
    {
      "cell_type": "code",
      "metadata": {
        "id": "ccLRP6NLred0"
      },
      "source": [
        "qrel = gold_standard_to_dict('/content/drive/MyDrive/Colab Notebooks/PLN/Corpus/Spanish/tass_2017/InterTASS/InterTASS_Test_res.qrel')"
      ],
      "execution_count": null,
      "outputs": []
    },
    {
      "cell_type": "markdown",
      "metadata": {
        "id": "n9L7E-OZsbF1"
      },
      "source": [
        "Como el test del corpus internacional esta sin los sentimientos, es necesario agregarlos"
      ]
    },
    {
      "cell_type": "code",
      "metadata": {
        "id": "fODpuWpJskuA"
      },
      "source": [
        "data.extend(intertass_tass_to_list(\n",
        "    '/content/drive/MyDrive/Colab Notebooks/PLN/Corpus/Spanish/tass_2017/InterTASS/InterTASS_Test.xml', \n",
        "    qrel\n",
        "))\n",
        "\n",
        "data.extend(intertass_tass_to_list(\n",
        "    '/content/drive/MyDrive/Colab Notebooks/PLN/Corpus/Spanish/tass_2017/InterTASS/InterTASS_development.xml'\n",
        "))\n",
        "\n",
        "data.extend(intertass_tass_to_list(\n",
        "    '/content/drive/MyDrive/Colab Notebooks/PLN/Corpus/Spanish/tass_2017/InterTASS/InterTASS_Training.xml'   \n",
        "))"
      ],
      "execution_count": null,
      "outputs": []
    },
    {
      "cell_type": "markdown",
      "metadata": {
        "id": "hs1HfUFktVyj"
      },
      "source": [
        "### Parceamos el general TASS"
      ]
    },
    {
      "cell_type": "code",
      "metadata": {
        "id": "Rb7NQ1nFtlR0"
      },
      "source": [
        "qrel = gold_standard_to_dict('/content/drive/MyDrive/Colab Notebooks/PLN/Corpus/Spanish/tass_2017/General Corpus of TASS/general-sentiment-3l.qrel')"
      ],
      "execution_count": null,
      "outputs": []
    },
    {
      "cell_type": "code",
      "metadata": {
        "id": "sEWHI9nFty2j"
      },
      "source": [
        "data.extend(general_tass_2017_to_list(\n",
        "    '/content/drive/MyDrive/Colab Notebooks/PLN/Corpus/Spanish/tass_2017/General Corpus of TASS/general-tweets-test.xml',\n",
        "    qrel\n",
        "))"
      ],
      "execution_count": null,
      "outputs": []
    },
    {
      "cell_type": "markdown",
      "metadata": {
        "id": "31uj9iqruD5o"
      },
      "source": [
        "### Parceamos el STOMPOL (política) TASS_2014 "
      ]
    },
    {
      "cell_type": "code",
      "metadata": {
        "id": "JfecNmSzuDIy"
      },
      "source": [
        "data.extend(politics_tass_to_list(\n",
        "    '/content/drive/MyDrive/Colab Notebooks/PLN/Corpus/Spanish/tass_2014/politics-test-tagged.xml'\n",
        "))"
      ],
      "execution_count": null,
      "outputs": []
    },
    {
      "cell_type": "markdown",
      "metadata": {
        "id": "Wdc6Tw3lxrxd"
      },
      "source": [
        "### Separamos la data en Train y Test"
      ]
    },
    {
      "cell_type": "code",
      "metadata": {
        "id": "VxBsaaMhxva9"
      },
      "source": [
        "train, test = (generate_train_test_subsets(data, size=0.3))"
      ],
      "execution_count": null,
      "outputs": []
    },
    {
      "cell_type": "code",
      "metadata": {
        "id": "6Mwn0PuLx6Oj"
      },
      "source": [
        "list_to_csv(data, '/content/drive/MyDrive/Colab Notebooks/PLN/dataset_2017_full.csv')\n",
        "list_to_csv(train, '/content/drive/MyDrive/Colab Notebooks/PLN/dataset_2017_train.csv')\n",
        "list_to_csv(test, '/content/drive/MyDrive/Colab Notebooks/PLN/dataset_2017_test.csv')"
      ],
      "execution_count": null,
      "outputs": []
    },
    {
      "cell_type": "markdown",
      "metadata": {
        "id": "QAHYkT9BroZ8"
      },
      "source": [
        "## Preprocesamiento del corpus"
      ]
    },
    {
      "cell_type": "markdown",
      "metadata": {
        "id": "7hFw-6K8rsYN"
      },
      "source": [
        "### Cargar librerías necesarias"
      ]
    },
    {
      "cell_type": "code",
      "metadata": {
        "id": "1WvdxhAqrxQS"
      },
      "source": [
        "import re\n",
        "from nltk import TweetTokenizer\n",
        "from nltk.stem import SnowballStemmer"
      ],
      "execution_count": null,
      "outputs": []
    },
    {
      "cell_type": "markdown",
      "metadata": {
        "id": "itv_D176sKY0"
      },
      "source": [
        "|Librería|Función|\n",
        "|--------|-------|\n",
        "|re|Operaciones regulares para la búsqueda y manipulación de cadenas|\n",
        "|TweetTokenizer|Librería para tokenizar|\n",
        "|SnowballStemmer|Algoritmo para clasificación de palabras|"
      ]
    },
    {
      "cell_type": "markdown",
      "metadata": {
        "id": "bv6Yzo9Is21R"
      },
      "source": [
        "Varaibles para mejorar la escritura (opcional)"
      ]
    },
    {
      "cell_type": "code",
      "metadata": {
        "id": "6SCCWDe_s2KH"
      },
      "source": [
        "NORMALIZE = 'normalize'\n",
        "REMOVE = 'remove'\n",
        "MENTION = 'twmention'\n",
        "HASHTAG = 'twhashtag'\n",
        "URL = 'twurl'\n",
        "LAUGH = 'twlaugh'"
      ],
      "execution_count": null,
      "outputs": []
    },
    {
      "cell_type": "markdown",
      "metadata": {
        "id": "7QtSVXXMtQMU"
      },
      "source": [
        "Definir que el algortimo de clasificación use el idimoa español"
      ]
    },
    {
      "cell_type": "code",
      "metadata": {
        "id": "KmPacteQtVIE"
      },
      "source": [
        "_stemmer = SnowballStemmer('spanish')"
      ],
      "execution_count": null,
      "outputs": []
    },
    {
      "cell_type": "markdown",
      "metadata": {
        "id": "HqpPp7u-tbE3"
      },
      "source": [
        "Definir una variable para la funcipon de tokenizar (opcional)"
      ]
    },
    {
      "cell_type": "code",
      "metadata": {
        "id": "AxA9v8rItgwe"
      },
      "source": [
        "_tokenizer = TweetTokenizer().tokenize"
      ],
      "execution_count": null,
      "outputs": []
    },
    {
      "cell_type": "markdown",
      "metadata": {
        "id": "tr13suo5tpJ2"
      },
      "source": [
        "Variable para definir si quiero normalizar o eliminar: remove los hashtag, menciones y urls en los tweets"
      ]
    },
    {
      "cell_type": "code",
      "metadata": {
        "id": "UtQpGIEVtoIb"
      },
      "source": [
        "_twitter_features = 'normalize'"
      ],
      "execution_count": null,
      "outputs": []
    },
    {
      "cell_type": "markdown",
      "metadata": {
        "id": "tLChNWZ-t30c"
      },
      "source": [
        "Variable para definir si se desea convertir o no a la raiz de la palabra"
      ]
    },
    {
      "cell_type": "code",
      "metadata": {
        "id": "R9sjqG9gt-mC"
      },
      "source": [
        "_stemming = False"
      ],
      "execution_count": null,
      "outputs": []
    },
    {
      "cell_type": "markdown",
      "metadata": {
        "id": "49AXHm35uDFU"
      },
      "source": [
        "### Funciones / métodos de preprocesamiento"
      ]
    },
    {
      "cell_type": "markdown",
      "metadata": {
        "id": "PHI2zvIYuIKW"
      },
      "source": [
        "#### Listas de Conversión (Quitar tildes y palabras coloquiales)"
      ]
    },
    {
      "cell_type": "markdown",
      "metadata": {
        "id": "ZSE19Dxvus4E"
      },
      "source": [
        "Lista de conversión para quitar las tildes a las vocales"
      ]
    },
    {
      "cell_type": "code",
      "metadata": {
        "id": "gbPzJVCNuSOJ"
      },
      "source": [
        "DIACRITICAL_VOWELS = [('á', 'a'), ('é', 'e'), ('í', 'i'), ('ó', 'o'), ('ú', 'u'), ('ü', 'u')]"
      ],
      "execution_count": null,
      "outputs": []
    },
    {
      "cell_type": "markdown",
      "metadata": {
        "id": "QmA6-7_Yu0wY"
      },
      "source": [
        "Lista para corregir algunas palabras coloquiales / jerga en español (palabras básicas)"
      ]
    },
    {
      "cell_type": "code",
      "metadata": {
        "id": "nag2KUidu9po"
      },
      "source": [
        "SLANG = [('d', 'de'), ('(q|k)', 'que'), ('[qk]', 'que'), ('xo', 'pero'), ('xa', 'para'), \n",
        "         ('[xq]', 'porque'), ('fvr', 'favor'), ('(xfa|xf|pf|plis|pls|porfa)', 'por favor'),\n",
        "         ('dnd', 'donde'), ('tb', 'tambien'), ('(tq|tk)', 'te quiero'), ('tqm', 'te quiero mucho'),\n",
        "         ('x', 'por'), ('\\+', 'mas'), ('maso', 'mas o menos'), ('(holi|hl)', 'hola'), \n",
        "         ('wnas', 'buenas'), ('nd', 'nada'), ('msj', 'mensaje'), ('es3', 'estre'), ('tp', 'tampoco'), \n",
        "         ('(wno|weno|bn)', 'bueno'), ('DM', 'mensaje directo'), ('BFF', 'mejores amigos para siempre'),\n",
        "         ('OMG', 'Oh Dios mio'), ('TBT', 'jueves de vuelta al pasado')]"
      ],
      "execution_count": null,
      "outputs": []
    },
    {
      "cell_type": "markdown",
      "metadata": {
        "id": "HndWqpvxlsRl"
      },
      "source": [
        "#### Función / método de normalización de risas"
      ]
    },
    {
      "cell_type": "code",
      "metadata": {
        "id": "PqZAMtJFl3kf"
      },
      "source": [
        "def normalize_laughs(message):\n",
        "    message = re.sub(r'\\b(?=\\w*[j])[aeiouj]{4,}\\b', LAUGH, message, flags=re.IGNORECASE)\n",
        "    message = re.sub(r'\\b(?=\\w*[k])[aeiouk]{4,}\\b', LAUGH, message, flags=re.IGNORECASE)\n",
        "    message = re.sub(r'\\b(?=\\w*[h])[aeiouh]{4,}\\b', LAUGH, message, flags=re.IGNORECASE)\n",
        "    message = re.sub(r'\\b(juas+|lol)\\b', LAUGH, message, flags=re.IGNORECASE)\n",
        "    return message"
      ],
      "execution_count": null,
      "outputs": []
    },
    {
      "cell_type": "code",
      "metadata": {
        "colab": {
          "base_uri": "https://localhost:8080/"
        },
        "id": "XZTpwaNZnBW_",
        "outputId": "42455fab-13a8-4acb-b7ff-3c4f9d198236"
      },
      "source": [
        "print(normalize_laughs('jajaja, jejeje, Lol, hohoho, kokoko'))"
      ],
      "execution_count": null,
      "outputs": [
        {
          "output_type": "stream",
          "text": [
            "twlaugh, twlaugh, twlaugh, twlaugh, twlaugh\n"
          ],
          "name": "stdout"
        }
      ]
    },
    {
      "cell_type": "markdown",
      "metadata": {
        "id": "gFkf_WFPneuf"
      },
      "source": [
        "#### Función / método para eliminar o normalizar menciones, hashtags y URL de un mensaje (tweet)"
      ]
    },
    {
      "cell_type": "code",
      "metadata": {
        "id": "xTvtANavnp3O"
      },
      "source": [
        "def process_twiter_features(message, twitter_features):\n",
        "    message = re.sub(r'[\\.\\,]http', '. http', message, flags=re.IGNORECASE)\n",
        "    message = re.sub(r'[\\.\\,]#', '. #', message)\n",
        "    message = re.sub(r'[\\.\\,]@', '. @', message)\n",
        "    if twitter_features == REMOVE:\n",
        "        # Eliminar menciones, hashtags y URL\n",
        "        message = re.sub(r'((?<=\\s)|(?<=\\A))(@|#)\\S+', '', message)\n",
        "        message = re.sub(r'\\b(https?:\\S+)\\b', '', message, flags=re.IGNORECASE)\n",
        "    elif twitter_features == NORMALIZE:\n",
        "        # Cuando sea necesario se normalizaran las menciones, hashtags y URL\n",
        "        message = re.sub(r'((?<=\\s)|(?<=\\A))@\\S+', MENTION, message)\n",
        "        message = re.sub(r'((?<=\\s)|(?<=\\A))#\\S+', HASHTAG, message)\n",
        "        message = re.sub(r'\\b(https?:\\S+)\\b', URL, message, flags=re.IGNORECASE)\n",
        "    return message"
      ],
      "execution_count": null,
      "outputs": []
    },
    {
      "cell_type": "code",
      "metadata": {
        "colab": {
          "base_uri": "https://localhost:8080/"
        },
        "id": "q91LwXl5pnGr",
        "outputId": "f6e9a910-e539-45c2-aac4-275c50a3a75d"
      },
      "source": [
        "print(process_twiter_features('@MarvelStudios, #MarvelStudios, https://marvelstudios.com', 'normalize'))"
      ],
      "execution_count": null,
      "outputs": [
        {
          "output_type": "stream",
          "text": [
            "twmention twhashtag twurl\n"
          ],
          "name": "stdout"
        }
      ]
    },
    {
      "cell_type": "markdown",
      "metadata": {
        "id": "8j5-LqIPqH_P"
      },
      "source": [
        "#### Función / método general para el preprocesamiento"
      ]
    },
    {
      "cell_type": "code",
      "metadata": {
        "id": "921dQMBMsJAN"
      },
      "source": [
        "def preprocess(message):\n",
        "    message = message.lower()\n",
        "\n",
        "    # Eliminar números, retorno de línea y los retweet(antiguos estilos de twitter)\n",
        "    message = re.sub(r'(\\d+|\\n|\\brt\\b)', '', message)\n",
        "\n",
        "    # Eliminar vocales con signos diacríticos (posibles ambigüedades)\n",
        "    for s,t in DIACRITICAL_VOWELS:\n",
        "        message = re.sub(r'{0}'.format(s), t, message)\n",
        "\n",
        "    # Eliminar caracteres repetidos\n",
        "    message = re.sub(r'(.)\\1{2,}', r'\\1\\1', message)\n",
        "    \n",
        "    # Normalizar las risas\n",
        "    message = normalize_laughs(message)\n",
        "\n",
        "    # Traducir la jerga y terminos coloquiales sobre todo en el español\n",
        "    for s,t in SLANG:\n",
        "        message = re.sub(r'\\b{0}\\b'.format(s), t, message)\n",
        "    \n",
        "    # Normalizar - eliminar hashtags, menciones y URL\n",
        "    message = process_twiter_features(message, _twitter_features)\n",
        "\n",
        "    # Convertir las palabras a su raiz (Bonito, Bonita --> bonit)\n",
        "    if _stemming: \n",
        "        message = ' '.join(_stemer.stem(w) for w in _tokenizer(message))\n",
        "\n",
        "    return message"
      ],
      "execution_count": null,
      "outputs": []
    },
    {
      "cell_type": "code",
      "metadata": {
        "colab": {
          "base_uri": "https://localhost:8080/"
        },
        "id": "SWXzgIMWuL5t",
        "outputId": "43c27a6e-bf00-4a90-ddd6-cdb3f9d3275e"
      },
      "source": [
        "print(preprocess(\"jajaja, @MarvelStudios, #MarvelStudios, https://www.marvel.com/movies\"))"
      ],
      "execution_count": null,
      "outputs": [
        {
          "output_type": "stream",
          "text": [
            "twlaugh, twmention twhashtag twurl\n"
          ],
          "name": "stdout"
        }
      ]
    },
    {
      "cell_type": "markdown",
      "metadata": {
        "id": "f5LgfQLxvLlP"
      },
      "source": [
        "### Descargar las librerías NLTK"
      ]
    },
    {
      "cell_type": "markdown",
      "metadata": {
        "id": "pBP2UqiDvZlw"
      },
      "source": [
        "Descargamos la librería de stopwords"
      ]
    },
    {
      "cell_type": "code",
      "metadata": {
        "colab": {
          "base_uri": "https://localhost:8080/"
        },
        "id": "CEVYQQuZuy-D",
        "outputId": "a95741c4-0621-4032-961e-bc1067f02945"
      },
      "source": [
        "import nltk\n",
        "nltk.download('stopwords')"
      ],
      "execution_count": null,
      "outputs": [
        {
          "output_type": "stream",
          "text": [
            "[nltk_data] Downloading package stopwords to /root/nltk_data...\n",
            "[nltk_data]   Unzipping corpora/stopwords.zip.\n"
          ],
          "name": "stdout"
        },
        {
          "output_type": "execute_result",
          "data": {
            "text/plain": [
              "True"
            ]
          },
          "metadata": {
            "tags": []
          },
          "execution_count": 53
        }
      ]
    },
    {
      "cell_type": "markdown",
      "metadata": {
        "id": "0OAMnuXzvmuD"
      },
      "source": [
        "## Cargamos el CSV del corpus"
      ]
    },
    {
      "cell_type": "markdown",
      "metadata": {
        "id": "RLCmi8ejwJ-z"
      },
      "source": [
        "### Aplicamos preprocesamiento al CSV y creamos un nuevo CSV limplio"
      ]
    },
    {
      "cell_type": "code",
      "metadata": {
        "id": "63V1DoVCwJUQ"
      },
      "source": [
        "df = pd.read_csv(\n",
        "    '/content/drive/MyDrive/Colab Notebooks/PLN/dataset_2017_full.csv',\n",
        "    encoding='utf-8')"
      ],
      "execution_count": null,
      "outputs": []
    },
    {
      "cell_type": "markdown",
      "metadata": {
        "id": "rkCbVqqewoI9"
      },
      "source": [
        "Asignamos nombres a las columnas del csv para facilitar la búsqueda de información"
      ]
    },
    {
      "cell_type": "code",
      "metadata": {
        "id": "7F0wrI4Hwnlu"
      },
      "source": [
        "df.columns = ['tweetid', 'tweet', 'sentiment']"
      ],
      "execution_count": null,
      "outputs": []
    },
    {
      "cell_type": "markdown",
      "metadata": {
        "id": "JqLgH9ciyXu0"
      },
      "source": [
        "Aplicamos el preprocesamiento a los tweets con steaming = False"
      ]
    },
    {
      "cell_type": "code",
      "metadata": {
        "id": "K54vtEvuykSH"
      },
      "source": [
        "df['tweet'] = df['tweet'].apply(preprocess)"
      ],
      "execution_count": null,
      "outputs": []
    },
    {
      "cell_type": "markdown",
      "metadata": {
        "id": "cBObXniGyvHD"
      },
      "source": [
        "Eliminamos la columna tweetid que no nos sirve para entrenar y si genera más uso de memoria"
      ]
    },
    {
      "cell_type": "code",
      "metadata": {
        "id": "3fUAVFcdy4Ua"
      },
      "source": [
        "df = df.drop(columns='tweetid')"
      ],
      "execution_count": null,
      "outputs": []
    },
    {
      "cell_type": "markdown",
      "metadata": {
        "id": "hXI8Fq97zBSO"
      },
      "source": [
        "Es mejor trabajar con valores enteros que con letras, por lo tanto reemplazaremos los sentimientos que estan como:\n",
        "\n",
        "|Valor Actual|Nuevo Valor|\n",
        "|------------|-----------|\n",
        "|NONE|-1|\n",
        "|NEU|0|\n",
        "|P|1|\n",
        "|N|2|"
      ]
    },
    {
      "cell_type": "code",
      "metadata": {
        "colab": {
          "base_uri": "https://localhost:8080/"
        },
        "id": "hDGLHlcOzZtP",
        "outputId": "18a2d22e-a33b-45b5-83f9-96cdbbbd45c1"
      },
      "source": [
        "df.loc[df['sentiment'] == 'NONE', 'sentiment'] = '-1'\n",
        "df.loc[df['sentiment'] == 'NEU', 'sentiment'] = '0'\n",
        "df.loc[df['sentiment'] == 'P', 'sentiment'] = '1'\n",
        "df.loc[df['sentiment'] == 'N', 'sentiment'] = '2'\n",
        "df['sentiment'].unique()"
      ],
      "execution_count": null,
      "outputs": [
        {
          "output_type": "execute_result",
          "data": {
            "text/plain": [
              "array(['1', '2', '-1', '0'], dtype=object)"
            ]
          },
          "metadata": {
            "tags": []
          },
          "execution_count": 59
        }
      ]
    },
    {
      "cell_type": "markdown",
      "metadata": {
        "id": "8HZfhSgQ1PeX"
      },
      "source": [
        "Guardamos el dataset en un nuevo CSV para facilitar su posterior uso"
      ]
    },
    {
      "cell_type": "code",
      "metadata": {
        "id": "dYwBZHxI1VTp"
      },
      "source": [
        "df.to_csv(\n",
        "    '/content/drive/MyDrive/Colab Notebooks/PLN/dataset_2017_full_clean.csv', \n",
        "    index=False, \n",
        "    encoding='utf-8')"
      ],
      "execution_count": null,
      "outputs": []
    },
    {
      "cell_type": "markdown",
      "metadata": {
        "id": "Qi5ZZ3iW2GSo"
      },
      "source": [
        "## Entrenar el modelo de aprendizaje"
      ]
    },
    {
      "cell_type": "markdown",
      "metadata": {
        "id": "Bmoskxxr2Tx6"
      },
      "source": [
        "### Funciones para tokenizar y extraer tweets"
      ]
    },
    {
      "cell_type": "markdown",
      "metadata": {
        "id": "j9QTND6w2aM8"
      },
      "source": [
        "#### Función para tokenizar y limpiar"
      ]
    },
    {
      "cell_type": "code",
      "metadata": {
        "id": "L_yQKt9N2OO6"
      },
      "source": [
        "def tokenizer(text):\n",
        "    text = re.sub('<[^>]*>', '', text)\n",
        "    emoticons = re.findall('(?::|;|=)(?:-)?(?:\\)|\\(|D|P)', text.lower())\n",
        "    text = re.sub('[\\W]+', ' ', text.lower()) + ' '.join(emoticons).replace('-', '')\n",
        "    tokenized = [w for w in text.split() if w not in stop]\n",
        "    return tokenized"
      ],
      "execution_count": null,
      "outputs": []
    },
    {
      "cell_type": "markdown",
      "metadata": {
        "id": "asJU9DcG3ibb"
      },
      "source": [
        "#### Función para extraer un documento del dataset"
      ]
    },
    {
      "cell_type": "code",
      "metadata": {
        "id": "8gIK8i0l3n9U"
      },
      "source": [
        "def stream_docs(path):\n",
        "    with open(path, 'r', encoding='utf-8') as csv:\n",
        "        next(csv)       # Skip header\n",
        "        for line in csv:\n",
        "            text, label = line[:-3], int(line[-2])\n",
        "            yield text, label"
      ],
      "execution_count": null,
      "outputs": []
    },
    {
      "cell_type": "markdown",
      "metadata": {
        "id": "vOY-creN4P03"
      },
      "source": [
        "#### Función que tomara una secuencia de documentos y devolvera un número particular de documentos"
      ]
    },
    {
      "cell_type": "code",
      "metadata": {
        "id": "I0gO1KBp4cUx"
      },
      "source": [
        "def get_minibatch(doc_stream, size):\n",
        "    docs, y = [], []\n",
        "    try:\n",
        "        for _ in range(size):\n",
        "            text, label = next(doc_stream)\n",
        "            docs.append(text)\n",
        "            y.append(label)\n",
        "    except StopIteration:\n",
        "        return None, None\n",
        "    return docs, y"
      ],
      "execution_count": null,
      "outputs": []
    },
    {
      "cell_type": "code",
      "metadata": {
        "colab": {
          "base_uri": "https://localhost:8080/"
        },
        "id": "s19s4cc34-EA",
        "outputId": "1b18e5f6-dd09-475e-d5d1-b88d68c28751"
      },
      "source": [
        "next(stream_docs(path='/content/drive/MyDrive/Colab Notebooks/PLN/dataset_2017_full_clean.csv'))"
      ],
      "execution_count": null,
      "outputs": [
        {
          "output_type": "execute_result",
          "data": {
            "text/plain": [
              "('twmention ya era hora de volver al csgo y dejares el padel bienvenida ', 1)"
            ]
          },
          "metadata": {
            "tags": []
          },
          "execution_count": 65
        }
      ]
    },
    {
      "cell_type": "markdown",
      "metadata": {
        "id": "bN0YbLoV50vh"
      },
      "source": [
        "## Entrenamos el modelo con regresión logística"
      ]
    },
    {
      "cell_type": "code",
      "metadata": {
        "id": "ufr4afK557Ix"
      },
      "source": [
        "path = '/content/drive/MyDrive/Colab Notebooks/PLN/dataset_2017_full_clean.csv'"
      ],
      "execution_count": null,
      "outputs": []
    },
    {
      "cell_type": "markdown",
      "metadata": {
        "id": "EOlPVpFE9A42"
      },
      "source": [
        "Definimos una versión liviana de CountVectorizer + TfidfVectorizer llamada HashingVectorizer"
      ]
    },
    {
      "cell_type": "code",
      "metadata": {
        "id": "KBGjK3gv9POm"
      },
      "source": [
        "from sklearn.feature_extraction.text import HashingVectorizer\n",
        "from sklearn.linear_model import SGDClassifier"
      ],
      "execution_count": null,
      "outputs": []
    },
    {
      "cell_type": "code",
      "metadata": {
        "id": "3AJVSDW49Xm6"
      },
      "source": [
        "vect = HashingVectorizer(decode_error='ignore',\n",
        "                         n_features=2**21,\n",
        "                         preprocessor=None,\n",
        "                         tokenizer=tokenizer)"
      ],
      "execution_count": null,
      "outputs": []
    },
    {
      "cell_type": "markdown",
      "metadata": {
        "id": "BFHWQ8Hk_mpO"
      },
      "source": [
        "Definimos como algoritmo la regresión logística en el descenso gradiente"
      ]
    },
    {
      "cell_type": "code",
      "metadata": {
        "id": "6emAfs6z_lFx"
      },
      "source": [
        "clf = SGDClassifier(loss='log', random_state=1, max_iter=1)\n",
        "doc_stream = stream_docs(path)"
      ],
      "execution_count": null,
      "outputs": []
    },
    {
      "cell_type": "markdown",
      "metadata": {
        "id": "b6pEKNyAAAhV"
      },
      "source": [
        "Entrenamiento"
      ]
    },
    {
      "cell_type": "code",
      "metadata": {
        "id": "5rrDoXfnABs7"
      },
      "source": [
        "from nltk.corpus import stopwords\n",
        "stop = stopwords.words('spanish')"
      ],
      "execution_count": null,
      "outputs": []
    },
    {
      "cell_type": "markdown",
      "metadata": {
        "id": "us-8XmKgAmnV"
      },
      "source": [
        "Definimos las clases con las cuales vamos a entrenar"
      ]
    },
    {
      "cell_type": "code",
      "metadata": {
        "id": "MnlzGmNtAqta"
      },
      "source": [
        "classes = np.array([-1, 0, 1, 2])"
      ],
      "execution_count": null,
      "outputs": []
    },
    {
      "cell_type": "code",
      "metadata": {
        "colab": {
          "base_uri": "https://localhost:8080/"
        },
        "id": "V4JOgzyKA0Cb",
        "outputId": "b7ff0b63-78cc-4461-9b61-209bbd3e2033"
      },
      "source": [
        "pbar = pyprind.ProgBar(50)\n",
        "\n",
        "for _ in range(50):\n",
        "    X_train, y_train = get_minibatch(doc_stream, size=1000)\n",
        "    if not X_train:\n",
        "        break\n",
        "    X_train = vect.transform(X_train)\n",
        "    clf.partial_fit(X_train, y_train, classes=classes)\n",
        "    pbar.update()"
      ],
      "execution_count": null,
      "outputs": [
        {
          "output_type": "stream",
          "text": [
            "0% [##############################] 100% | ETA: 00:00:00\n",
            "Total time elapsed: 00:00:09\n"
          ],
          "name": "stderr"
        }
      ]
    },
    {
      "cell_type": "markdown",
      "metadata": {
        "id": "D1-UMBj4Bf1l"
      },
      "source": [
        "Probamos la eficiencia del modelo con 5000 tweets"
      ]
    },
    {
      "cell_type": "code",
      "metadata": {
        "id": "3PZwigf4BenM"
      },
      "source": [
        "X_test, y_test = get_minibatch(doc_stream, size=5000)\n",
        "X_test = vect.transform(X_test)"
      ],
      "execution_count": null,
      "outputs": []
    },
    {
      "cell_type": "code",
      "metadata": {
        "colab": {
          "base_uri": "https://localhost:8080/"
        },
        "id": "9x9cwdopBz7F",
        "outputId": "1301de66-d1ec-4676-ef8f-9fd8443b0535"
      },
      "source": [
        "print('Accuracy: %.3f' % clf.score(X_test, y_test))"
      ],
      "execution_count": null,
      "outputs": [
        {
          "output_type": "stream",
          "text": [
            "Accuracy: 0.805\n"
          ],
          "name": "stdout"
        }
      ]
    },
    {
      "cell_type": "markdown",
      "metadata": {
        "id": "d9CrVeoyCVnP"
      },
      "source": [
        "Recalibramos el modelo"
      ]
    },
    {
      "cell_type": "code",
      "metadata": {
        "id": "AB0V0M_9CANC"
      },
      "source": [
        "clf = clf.partial_fit(X_test, y_test)"
      ],
      "execution_count": null,
      "outputs": []
    },
    {
      "cell_type": "markdown",
      "metadata": {
        "id": "FNbYcLD-CaOl"
      },
      "source": [
        "## Serializamos / Congelamos el modelo para usarlo fuera de Google Colaboratory"
      ]
    },
    {
      "cell_type": "code",
      "metadata": {
        "id": "s906OWioCvLJ"
      },
      "source": [
        "import pickle"
      ],
      "execution_count": null,
      "outputs": []
    },
    {
      "cell_type": "markdown",
      "metadata": {
        "id": "AwooBblpC31P"
      },
      "source": [
        "Creamos una carpeta en el drive para guardar los archivos serializados"
      ]
    },
    {
      "cell_type": "code",
      "metadata": {
        "id": "KMWh5p5-C935"
      },
      "source": [
        "dest = os.path.join('/content/drive/MyDrive/Colab Notebooks/PLN/TwitterClassifier', 'pkl_objects')\n",
        "if not os.path.exists(dest):\n",
        "    os.makedirs(dest)"
      ],
      "execution_count": null,
      "outputs": []
    },
    {
      "cell_type": "markdown",
      "metadata": {
        "id": "OJZDNVZhDiix"
      },
      "source": [
        "Convertimos el clasificador y el stopword en archivo/objetos pkl. Es importante verificar que si se encuentran en dicho directorio"
      ]
    },
    {
      "cell_type": "code",
      "metadata": {
        "id": "2ZNlAhP1DrDv"
      },
      "source": [
        "pickle.dump(stop, open(os.path.join(dest, 'stopwords.pkl'), 'wb'), protocol=4)\n",
        "pickle.dump(clf, open(os.path.join(dest, 'classifier.pkl'), 'wb'), protocol=4)"
      ],
      "execution_count": null,
      "outputs": []
    },
    {
      "cell_type": "markdown",
      "metadata": {
        "id": "XaJO22-oET5-"
      },
      "source": [
        "Para probar si funciona, cambiamos la basepath (directorio por defecto) de Python a la carpeta de TwitterClassifier"
      ]
    },
    {
      "cell_type": "code",
      "metadata": {
        "id": "7kRyMvk_Efua"
      },
      "source": [
        "os.chdir('/content/drive/MyDrive/Colab Notebooks/PLN/TwitterClassifier')"
      ],
      "execution_count": null,
      "outputs": []
    },
    {
      "cell_type": "markdown",
      "metadata": {
        "id": "ltVlRlp4EkO3"
      },
      "source": [
        "Deserializamos los estimadores"
      ]
    },
    {
      "cell_type": "code",
      "metadata": {
        "id": "mIOaagpqEsDp"
      },
      "source": [
        "clf = pickle.load(\n",
        "    open(\n",
        "        os.path.join('/content/drive/MyDrive/Colab Notebooks/PLN/TwitterClassifier/pkl_objects', \n",
        "                     'classifier.pkl'), \n",
        "         'rb'))"
      ],
      "execution_count": null,
      "outputs": []
    },
    {
      "cell_type": "markdown",
      "metadata": {
        "id": "QRJV7dKsGmtn"
      },
      "source": [
        "Clasifiquemos un texto de ejemplo"
      ]
    },
    {
      "cell_type": "code",
      "metadata": {
        "id": "dl3DAHPcGk6b"
      },
      "source": [
        "label = {-1:'Sin sentimientos', 0:'Neutro', 1:'Positivo', 2:'Negativo'}"
      ],
      "execution_count": null,
      "outputs": []
    },
    {
      "cell_type": "code",
      "metadata": {
        "id": "_Wg6fgU3G0Ey"
      },
      "source": [
        "frase = 'Estoy alegre por la nueva pelicula del conjuro'\n",
        "example = [frase]"
      ],
      "execution_count": null,
      "outputs": []
    },
    {
      "cell_type": "markdown",
      "metadata": {
        "id": "ey1uY4d7HDiO"
      },
      "source": [
        "Convertimos el texto en un vecot de palabras y extraemos sus caracteristicas https://scikit-learn.org/stable/modules/feature_extraction.html"
      ]
    },
    {
      "cell_type": "code",
      "metadata": {
        "colab": {
          "base_uri": "https://localhost:8080/"
        },
        "id": "gbQ_5ynMHNIM",
        "outputId": "84fa0a69-9567-4d53-eac6-d6f7a70fd5b3"
      },
      "source": [
        "textConvert = vect.transform(example)\n",
        "\n",
        "print('Predicción: %s \\nProbabilidad: %.2f%%' % (label[clf.predict(textConvert)[0]], np.max(clf.predict_proba(textConvert))*100))\n",
        "print('Predicción: %s' % label[clf.predict(textConvert)[0]])\n",
        "print(np.max(clf.predict_proba(textConvert))*100)"
      ],
      "execution_count": null,
      "outputs": [
        {
          "output_type": "stream",
          "text": [
            "Predicción: Positivo \n",
            "Probabilidad: 81.84%\n",
            "Predicción: Positivo\n",
            "81.84307594442375\n"
          ],
          "name": "stdout"
        }
      ]
    },
    {
      "cell_type": "markdown",
      "metadata": {
        "id": "v5E0k3jtKmZP"
      },
      "source": [
        "## Recorremos los tweets descargados y los clasificamos"
      ]
    },
    {
      "cell_type": "code",
      "metadata": {
        "id": "U7flwkX9KrFL"
      },
      "source": [
        "pbar = pyprind.ProgBar(50000)"
      ],
      "execution_count": null,
      "outputs": []
    },
    {
      "cell_type": "code",
      "metadata": {
        "id": "FLdF0yD5LOFk"
      },
      "source": [
        "df = pd.read_csv('/content/drive/MyDrive/Colab Notebooks/El_Conjuro.csv', encoding='utf-8')"
      ],
      "execution_count": null,
      "outputs": []
    },
    {
      "cell_type": "markdown",
      "metadata": {
        "id": "GrraTjo4LXhH"
      },
      "source": [
        "Creamos una columna llamada Sentiment donde guardamos la predicción y otra columna llamada Probability donde almacenaremos la acertabilidad que dio el clasificador"
      ]
    },
    {
      "cell_type": "code",
      "metadata": {
        "id": "M9lh0IovLO9t"
      },
      "source": [
        "df['sentiment'] = ''\n",
        "df['probability'] = 0"
      ],
      "execution_count": null,
      "outputs": []
    },
    {
      "cell_type": "markdown",
      "metadata": {
        "id": "prcgX-9AL6PR"
      },
      "source": [
        "Conversion de sentimientos (números a palabras)"
      ]
    },
    {
      "cell_type": "code",
      "metadata": {
        "colab": {
          "base_uri": "https://localhost:8080/",
          "height": 653
        },
        "id": "MQjYoWRfOkgK",
        "outputId": "e0bfe424-0179-465d-e2cf-111489d2b87b"
      },
      "source": [
        "for rowid in range(len(df.index)):\n",
        "    text = df['Text'][rowid]\n",
        "    textConvert = vect.transform([text])\n",
        "    df['sentiment'][rowid] = label[clf.predict(textConvert)[0]]\n",
        "    df['probability'][rowid] = np.max(clf.predict_proba(textConvert))*100\n",
        "    pbar.update()\n",
        "df.head(20)"
      ],
      "execution_count": null,
      "outputs": [
        {
          "output_type": "stream",
          "text": [
            "/usr/local/lib/python3.7/dist-packages/ipykernel_launcher.py:4: SettingWithCopyWarning: \n",
            "A value is trying to be set on a copy of a slice from a DataFrame\n",
            "\n",
            "See the caveats in the documentation: https://pandas.pydata.org/pandas-docs/stable/user_guide/indexing.html#returning-a-view-versus-a-copy\n",
            "  after removing the cwd from sys.path.\n",
            "/usr/local/lib/python3.7/dist-packages/ipykernel_launcher.py:5: SettingWithCopyWarning: \n",
            "A value is trying to be set on a copy of a slice from a DataFrame\n",
            "\n",
            "See the caveats in the documentation: https://pandas.pydata.org/pandas-docs/stable/user_guide/indexing.html#returning-a-view-versus-a-copy\n",
            "  \"\"\"\n"
          ],
          "name": "stderr"
        },
        {
          "output_type": "execute_result",
          "data": {
            "text/html": [
              "<div>\n",
              "<style scoped>\n",
              "    .dataframe tbody tr th:only-of-type {\n",
              "        vertical-align: middle;\n",
              "    }\n",
              "\n",
              "    .dataframe tbody tr th {\n",
              "        vertical-align: top;\n",
              "    }\n",
              "\n",
              "    .dataframe thead th {\n",
              "        text-align: right;\n",
              "    }\n",
              "</style>\n",
              "<table border=\"1\" class=\"dataframe\">\n",
              "  <thead>\n",
              "    <tr style=\"text-align: right;\">\n",
              "      <th></th>\n",
              "      <th>User</th>\n",
              "      <th>Location</th>\n",
              "      <th>Text</th>\n",
              "      <th>sentiment</th>\n",
              "      <th>probability</th>\n",
              "    </tr>\n",
              "  </thead>\n",
              "  <tbody>\n",
              "    <tr>\n",
              "      <th>0</th>\n",
              "      <td>clradiocom</td>\n",
              "      <td>Chile</td>\n",
              "      <td>#CineyTV Tráiler de \"Expediente Warren: Obliga...</td>\n",
              "      <td>Positivo</td>\n",
              "      <td>63</td>\n",
              "    </tr>\n",
              "    <tr>\n",
              "      <th>1</th>\n",
              "      <td>yo_kevinazo</td>\n",
              "      <td>NaN</td>\n",
              "      <td>No sé si aquí me van a vacunar o a exorcizarme...</td>\n",
              "      <td>Positivo</td>\n",
              "      <td>60</td>\n",
              "    </tr>\n",
              "    <tr>\n",
              "      <th>2</th>\n",
              "      <td>CinafilmEspanol</td>\n",
              "      <td>Birmingham, England</td>\n",
              "      <td>El conjuro (2013) - Leer 1,149 Críticas de Pel...</td>\n",
              "      <td>Positivo</td>\n",
              "      <td>66</td>\n",
              "    </tr>\n",
              "    <tr>\n",
              "      <th>3</th>\n",
              "      <td>RED92cadadiamas</td>\n",
              "      <td>La Plata - Buenos Aires - ARG</td>\n",
              "      <td>😰📽🎞 | #Warren | #ElConjuro | #TheConjuring | #...</td>\n",
              "      <td>Positivo</td>\n",
              "      <td>65</td>\n",
              "    </tr>\n",
              "    <tr>\n",
              "      <th>4</th>\n",
              "      <td>Moni_Buenfil</td>\n",
              "      <td>Irapuato, Guanajuato</td>\n",
              "      <td>Participa en el sorteo #ElConjuro @acme_vlogs ...</td>\n",
              "      <td>Positivo</td>\n",
              "      <td>68</td>\n",
              "    </tr>\n",
              "    <tr>\n",
              "      <th>5</th>\n",
              "      <td>RevistaRayas</td>\n",
              "      <td>Puebla, México</td>\n",
              "      <td>😱🤩 ¡Morimos de miedo y de ganas de verla! \\n\\n...</td>\n",
              "      <td>Positivo</td>\n",
              "      <td>63</td>\n",
              "    </tr>\n",
              "    <tr>\n",
              "      <th>6</th>\n",
              "      <td>PactoCopernico</td>\n",
              "      <td>La Plata</td>\n",
              "      <td>Ayer, en @PactoCopernico el querido @RodrigoGF...</td>\n",
              "      <td>Positivo</td>\n",
              "      <td>64</td>\n",
              "    </tr>\n",
              "    <tr>\n",
              "      <th>7</th>\n",
              "      <td>Hernan_moyano</td>\n",
              "      <td>La Plata</td>\n",
              "      <td>Ayer, en @PactoCopernico el querido @RodrigoGF...</td>\n",
              "      <td>Positivo</td>\n",
              "      <td>64</td>\n",
              "    </tr>\n",
              "    <tr>\n",
              "      <th>8</th>\n",
              "      <td>clradiocom</td>\n",
              "      <td>Chile</td>\n",
              "      <td>#CineyTV Tráiler de \"Expediente Warren: Obliga...</td>\n",
              "      <td>Positivo</td>\n",
              "      <td>63</td>\n",
              "    </tr>\n",
              "    <tr>\n",
              "      <th>9</th>\n",
              "      <td>DoppelgangerEl</td>\n",
              "      <td>NaN</td>\n",
              "      <td>En minutos les cuento mis apreciaciones sobre ...</td>\n",
              "      <td>Positivo</td>\n",
              "      <td>71</td>\n",
              "    </tr>\n",
              "    <tr>\n",
              "      <th>10</th>\n",
              "      <td>culturageek</td>\n",
              "      <td>Buenos Aires</td>\n",
              "      <td>#Comics #Cine #DCComics #TheConjuring\\n-\\n#ElC...</td>\n",
              "      <td>Positivo</td>\n",
              "      <td>69</td>\n",
              "    </tr>\n",
              "    <tr>\n",
              "      <th>11</th>\n",
              "      <td>t23augusto</td>\n",
              "      <td>Buenos Aires</td>\n",
              "      <td>#Comics #Cine #DCComics #TheConjuring\\n-\\n#ElC...</td>\n",
              "      <td>Positivo</td>\n",
              "      <td>69</td>\n",
              "    </tr>\n",
              "    <tr>\n",
              "      <th>12</th>\n",
              "      <td>CinafilmEspanol</td>\n",
              "      <td>Birmingham, England</td>\n",
              "      <td>El conjuro (2013) - Leer 1,149 Críticas de Pel...</td>\n",
              "      <td>Positivo</td>\n",
              "      <td>66</td>\n",
              "    </tr>\n",
              "    <tr>\n",
              "      <th>13</th>\n",
              "      <td>clradiocom</td>\n",
              "      <td>Chile</td>\n",
              "      <td>#CineyTV Tráiler de \"Expediente Warren: Obliga...</td>\n",
              "      <td>Positivo</td>\n",
              "      <td>63</td>\n",
              "    </tr>\n",
              "  </tbody>\n",
              "</table>\n",
              "</div>"
            ],
            "text/plain": [
              "               User                       Location  ... sentiment probability\n",
              "0        clradiocom                          Chile  ...  Positivo          63\n",
              "1       yo_kevinazo                            NaN  ...  Positivo          60\n",
              "2   CinafilmEspanol            Birmingham, England  ...  Positivo          66\n",
              "3   RED92cadadiamas  La Plata - Buenos Aires - ARG  ...  Positivo          65\n",
              "4      Moni_Buenfil           Irapuato, Guanajuato  ...  Positivo          68\n",
              "5      RevistaRayas                 Puebla, México  ...  Positivo          63\n",
              "6    PactoCopernico                       La Plata  ...  Positivo          64\n",
              "7     Hernan_moyano                       La Plata  ...  Positivo          64\n",
              "8        clradiocom                          Chile  ...  Positivo          63\n",
              "9    DoppelgangerEl                            NaN  ...  Positivo          71\n",
              "10      culturageek                   Buenos Aires  ...  Positivo          69\n",
              "11       t23augusto                   Buenos Aires  ...  Positivo          69\n",
              "12  CinafilmEspanol            Birmingham, England  ...  Positivo          66\n",
              "13       clradiocom                          Chile  ...  Positivo          63\n",
              "\n",
              "[14 rows x 5 columns]"
            ]
          },
          "metadata": {
            "tags": []
          },
          "execution_count": 98
        }
      ]
    },
    {
      "cell_type": "code",
      "metadata": {
        "id": "Yz_MSnUmP2q3"
      },
      "source": [
        "df.to_csv('/content/drive/MyDrive/Colab Notebooks/El_Conjuro.csv', index=False, encoding='utf-8')"
      ],
      "execution_count": null,
      "outputs": []
    },
    {
      "cell_type": "markdown",
      "metadata": {
        "id": "xFECK1GLQwxe"
      },
      "source": [
        "Segunda forma de ejecutar el análisis (métodos)"
      ]
    },
    {
      "cell_type": "code",
      "metadata": {
        "id": "bPfeVsUvQudP"
      },
      "source": [
        "def f_prediction(row):\n",
        "  text = row['Text']\n",
        "  textConvert = vect.transform([text]) \n",
        "  return label[clf.predict(textConvert)[0]]"
      ],
      "execution_count": null,
      "outputs": []
    },
    {
      "cell_type": "code",
      "metadata": {
        "id": "UK8w3qx2Q2Aw"
      },
      "source": [
        "def f_probability(row):\n",
        "  text = row['Text']\n",
        "  textConvert = vect.transform([text]) \n",
        "  return np.max(clf.predict_proba(textConvert))*100"
      ],
      "execution_count": null,
      "outputs": []
    },
    {
      "cell_type": "code",
      "metadata": {
        "id": "cDKsXZKyQ32U"
      },
      "source": [
        "df[\"sentiment\"] = df.apply(f_prediction, axis=1) # recorriendo columnas\n",
        "df[\"probability\"] = df.apply(f_probability, axis=1) # recorriendo columnas"
      ],
      "execution_count": null,
      "outputs": []
    },
    {
      "cell_type": "code",
      "metadata": {
        "colab": {
          "base_uri": "https://localhost:8080/",
          "height": 359
        },
        "id": "ULmaKcZ-ROOJ",
        "outputId": "0594ca32-9a97-4ed5-b33b-1490199a6d8b"
      },
      "source": [
        "import matplotlib.pyplot as plt\n",
        "\n",
        "df.groupby('sentiment')['Location'].nunique().plot(kind='bar')\n",
        "print(df.groupby(['sentiment']).size())\n",
        "plt.show()"
      ],
      "execution_count": null,
      "outputs": [
        {
          "output_type": "stream",
          "text": [
            "sentiment\n",
            "Positivo    14\n",
            "dtype: int64\n"
          ],
          "name": "stdout"
        },
        {
          "output_type": "display_data",
          "data": {
            "image/png": "[encoded data removed]",
            "text/plain": [
              "<Figure size 432x288 with 1 Axes>"
            ]
          },
          "metadata": {
            "tags": [],
            "needs_background": "light"
          }
        }
      ]
    },
    {
      "cell_type": "markdown",
      "metadata": {
        "id": "CeP9buo_IBwi"
      },
      "source": [
        "## Recorremos los tweets descargados y los clasificamos"
      ]
    },
    {
      "cell_type": "code",
      "metadata": {
        "id": "DTVxzBWWIBwk"
      },
      "source": [
        "pbar = pyprind.ProgBar(50000)"
      ],
      "execution_count": null,
      "outputs": []
    },
    {
      "cell_type": "code",
      "metadata": {
        "id": "6_hqMJB9IBwl"
      },
      "source": [
        "df = pd.read_csv('/content/drive/MyDrive/Colab Notebooks/PLN/Colombia/Paro_Nacional.csv', encoding='utf-8')"
      ],
      "execution_count": null,
      "outputs": []
    },
    {
      "cell_type": "markdown",
      "metadata": {
        "id": "kE2IheCFIBwl"
      },
      "source": [
        "Creamos una columna llamada Sentiment donde guardamos la predicción y otra columna llamada Probability donde almacenaremos la acertabilidad que dio el clasificador"
      ]
    },
    {
      "cell_type": "code",
      "metadata": {
        "id": "KGuiRxyhIBwm"
      },
      "source": [
        "df['sentiment'] = ''\n",
        "df['probability'] = 0"
      ],
      "execution_count": null,
      "outputs": []
    },
    {
      "cell_type": "markdown",
      "metadata": {
        "id": "f82Sdk6HIBwm"
      },
      "source": [
        "Conversion de sentimientos (números a palabras)"
      ]
    },
    {
      "cell_type": "code",
      "metadata": {
        "colab": {
          "base_uri": "https://localhost:8080/",
          "height": 856
        },
        "id": "zVeXI0YSIBwn",
        "outputId": "57c7bae3-3cf1-4f74-dbc1-f401f1588da2"
      },
      "source": [
        "for rowid in range(len(df.index)):\n",
        "    text = df['Text'][rowid]\n",
        "    textConvert = vect.transform([text])\n",
        "    df['sentiment'][rowid] = label[clf.predict(textConvert)[0]]\n",
        "    df['probability'][rowid] = np.max(clf.predict_proba(textConvert))*100\n",
        "    pbar.update()\n",
        "df.head(20)"
      ],
      "execution_count": null,
      "outputs": [
        {
          "output_type": "stream",
          "text": [
            "/usr/local/lib/python3.7/dist-packages/ipykernel_launcher.py:4: SettingWithCopyWarning: \n",
            "A value is trying to be set on a copy of a slice from a DataFrame\n",
            "\n",
            "See the caveats in the documentation: https://pandas.pydata.org/pandas-docs/stable/user_guide/indexing.html#returning-a-view-versus-a-copy\n",
            "  after removing the cwd from sys.path.\n",
            "/usr/local/lib/python3.7/dist-packages/ipykernel_launcher.py:5: SettingWithCopyWarning: \n",
            "A value is trying to be set on a copy of a slice from a DataFrame\n",
            "\n",
            "See the caveats in the documentation: https://pandas.pydata.org/pandas-docs/stable/user_guide/indexing.html#returning-a-view-versus-a-copy\n",
            "  \"\"\"\n",
            "0% [###                           ] 100% | ETA: 00:39:41"
          ],
          "name": "stderr"
        },
        {
          "output_type": "execute_result",
          "data": {
            "text/html": [
              "<div>\n",
              "<style scoped>\n",
              "    .dataframe tbody tr th:only-of-type {\n",
              "        vertical-align: middle;\n",
              "    }\n",
              "\n",
              "    .dataframe tbody tr th {\n",
              "        vertical-align: top;\n",
              "    }\n",
              "\n",
              "    .dataframe thead th {\n",
              "        text-align: right;\n",
              "    }\n",
              "</style>\n",
              "<table border=\"1\" class=\"dataframe\">\n",
              "  <thead>\n",
              "    <tr style=\"text-align: right;\">\n",
              "      <th></th>\n",
              "      <th>User</th>\n",
              "      <th>Location</th>\n",
              "      <th>Text</th>\n",
              "      <th>sentiment</th>\n",
              "      <th>probability</th>\n",
              "    </tr>\n",
              "  </thead>\n",
              "  <tbody>\n",
              "    <tr>\n",
              "      <th>0</th>\n",
              "      <td>johamos06</td>\n",
              "      <td>NaN</td>\n",
              "      <td>Estoy totalmente de acuerdo con el #ParoNacion...</td>\n",
              "      <td>Positivo</td>\n",
              "      <td>54</td>\n",
              "    </tr>\n",
              "    <tr>\n",
              "      <th>1</th>\n",
              "      <td>eseljeexx</td>\n",
              "      <td>España</td>\n",
              "      <td>Mrc ya no se trata de si la arepa es de Colomb...</td>\n",
              "      <td>Positivo</td>\n",
              "      <td>72</td>\n",
              "    </tr>\n",
              "    <tr>\n",
              "      <th>2</th>\n",
              "      <td>BambamSteven_</td>\n",
              "      <td>Puerto Wilches - Pamplona</td>\n",
              "      <td>El pueblo no mata al pueblo, es increíble lo q...</td>\n",
              "      <td>Positivo</td>\n",
              "      <td>64</td>\n",
              "    </tr>\n",
              "    <tr>\n",
              "      <th>3</th>\n",
              "      <td>Davidhern10</td>\n",
              "      <td>Barcelona, España</td>\n",
              "      <td>Estado paramilitar, estado Genocida. Me duele ...</td>\n",
              "      <td>Positivo</td>\n",
              "      <td>58</td>\n",
              "    </tr>\n",
              "    <tr>\n",
              "      <th>4</th>\n",
              "      <td>edgardoalcendra</td>\n",
              "      <td>Colombia</td>\n",
              "      <td>Se metieron con la generación que todo lo grab...</td>\n",
              "      <td>Positivo</td>\n",
              "      <td>60</td>\n",
              "    </tr>\n",
              "    <tr>\n",
              "      <th>5</th>\n",
              "      <td>EstherJinete</td>\n",
              "      <td>Colombia</td>\n",
              "      <td>@HFCardonaG No puedo creer que alguien que sie...</td>\n",
              "      <td>Positivo</td>\n",
              "      <td>67</td>\n",
              "    </tr>\n",
              "    <tr>\n",
              "      <th>6</th>\n",
              "      <td>nicolastorrest6</td>\n",
              "      <td>NaN</td>\n",
              "      <td>El día de hoy en Colombia es como jugar monopo...</td>\n",
              "      <td>Positivo</td>\n",
              "      <td>77</td>\n",
              "    </tr>\n",
              "    <tr>\n",
              "      <th>7</th>\n",
              "      <td>andreah22735593</td>\n",
              "      <td>Argentina</td>\n",
              "      <td>En Medellín en este momento en el@parque de la...</td>\n",
              "      <td>Positivo</td>\n",
              "      <td>69</td>\n",
              "    </tr>\n",
              "    <tr>\n",
              "      <th>8</th>\n",
              "      <td>Alejand72037901</td>\n",
              "      <td>Bogotá, D.C., Colombia</td>\n",
              "      <td>Me le paro a ese man y le aplaudo. Chico desco...</td>\n",
              "      <td>Negativo</td>\n",
              "      <td>53</td>\n",
              "    </tr>\n",
              "    <tr>\n",
              "      <th>9</th>\n",
              "      <td>RugeJaimes</td>\n",
              "      <td>Bogotá, D.C., Colombia</td>\n",
              "      <td>Voy en bus a soacha y vengo escuchando una con...</td>\n",
              "      <td>Positivo</td>\n",
              "      <td>73</td>\n",
              "    </tr>\n",
              "    <tr>\n",
              "      <th>10</th>\n",
              "      <td>lopez_santiago4</td>\n",
              "      <td>Bogotá Colombia</td>\n",
              "      <td>@DanielSamperO Este es el problema de Colombia...</td>\n",
              "      <td>Positivo</td>\n",
              "      <td>52</td>\n",
              "    </tr>\n",
              "    <tr>\n",
              "      <th>11</th>\n",
              "      <td>ZamirVasquez1</td>\n",
              "      <td>NaN</td>\n",
              "      <td>Nos están asesinando!! Integrantes del gobiern...</td>\n",
              "      <td>Positivo</td>\n",
              "      <td>53</td>\n",
              "    </tr>\n",
              "    <tr>\n",
              "      <th>12</th>\n",
              "      <td>Arthurkng3</td>\n",
              "      <td>Bogotá, D.C., Colombia</td>\n",
              "      <td>están violando todos nuestros derechos, inclus...</td>\n",
              "      <td>Positivo</td>\n",
              "      <td>61</td>\n",
              "    </tr>\n",
              "    <tr>\n",
              "      <th>13</th>\n",
              "      <td>Jhon_Andres1</td>\n",
              "      <td>NaN</td>\n",
              "      <td>La dimensión acústica de la protesta en Istmin...</td>\n",
              "      <td>Positivo</td>\n",
              "      <td>52</td>\n",
              "    </tr>\n",
              "    <tr>\n",
              "      <th>14</th>\n",
              "      <td>Alejand79730240</td>\n",
              "      <td>NaN</td>\n",
              "      <td>@KimberlyLoaiza_ Pedimos ayuda, nos están mata...</td>\n",
              "      <td>Positivo</td>\n",
              "      <td>61</td>\n",
              "    </tr>\n",
              "    <tr>\n",
              "      <th>15</th>\n",
              "      <td>LelyHerrera1</td>\n",
              "      <td>Panamá</td>\n",
              "      <td>Ayuda para Colombia 🇨🇴#ONUintervengaColombia \\...</td>\n",
              "      <td>Positivo</td>\n",
              "      <td>69</td>\n",
              "    </tr>\n",
              "    <tr>\n",
              "      <th>16</th>\n",
              "      <td>maryjogc</td>\n",
              "      <td>NaN</td>\n",
              "      <td>¡Siempre tendrán una excusa! ¡SIEMPRE! Consens...</td>\n",
              "      <td>Positivo</td>\n",
              "      <td>72</td>\n",
              "    </tr>\n",
              "    <tr>\n",
              "      <th>17</th>\n",
              "      <td>TatianaRozo19</td>\n",
              "      <td>NaN</td>\n",
              "      <td>Levantarse y veo los noticieros hablando del c...</td>\n",
              "      <td>Positivo</td>\n",
              "      <td>60</td>\n",
              "    </tr>\n",
              "    <tr>\n",
              "      <th>18</th>\n",
              "      <td>AbiCarvajal</td>\n",
              "      <td>Alicante</td>\n",
              "      <td>Super orgullosa de mi pueblo que no agacha la ...</td>\n",
              "      <td>Positivo</td>\n",
              "      <td>59</td>\n",
              "    </tr>\n",
              "    <tr>\n",
              "      <th>19</th>\n",
              "      <td>ToysoloTony</td>\n",
              "      <td>Colombia</td>\n",
              "      <td>O ¿es que alla si no se meten porque les respo...</td>\n",
              "      <td>Positivo</td>\n",
              "      <td>58</td>\n",
              "    </tr>\n",
              "  </tbody>\n",
              "</table>\n",
              "</div>"
            ],
            "text/plain": [
              "               User                   Location  ... sentiment probability\n",
              "0         johamos06                        NaN  ...  Positivo          54\n",
              "1         eseljeexx                     España  ...  Positivo          72\n",
              "2     BambamSteven_  Puerto Wilches - Pamplona  ...  Positivo          64\n",
              "3       Davidhern10          Barcelona, España  ...  Positivo          58\n",
              "4   edgardoalcendra                   Colombia  ...  Positivo          60\n",
              "5      EstherJinete                   Colombia  ...  Positivo          67\n",
              "6   nicolastorrest6                        NaN  ...  Positivo          77\n",
              "7   andreah22735593                  Argentina  ...  Positivo          69\n",
              "8   Alejand72037901     Bogotá, D.C., Colombia  ...  Negativo          53\n",
              "9        RugeJaimes     Bogotá, D.C., Colombia  ...  Positivo          73\n",
              "10  lopez_santiago4            Bogotá Colombia  ...  Positivo          52\n",
              "11    ZamirVasquez1                        NaN  ...  Positivo          53\n",
              "12       Arthurkng3     Bogotá, D.C., Colombia  ...  Positivo          61\n",
              "13     Jhon_Andres1                        NaN  ...  Positivo          52\n",
              "14  Alejand79730240                        NaN  ...  Positivo          61\n",
              "15     LelyHerrera1                     Panamá  ...  Positivo          69\n",
              "16         maryjogc                        NaN  ...  Positivo          72\n",
              "17    TatianaRozo19                        NaN  ...  Positivo          60\n",
              "18      AbiCarvajal                  Alicante   ...  Positivo          59\n",
              "19      ToysoloTony                   Colombia  ...  Positivo          58\n",
              "\n",
              "[20 rows x 5 columns]"
            ]
          },
          "metadata": {
            "tags": []
          },
          "execution_count": 107
        }
      ]
    },
    {
      "cell_type": "code",
      "metadata": {
        "id": "AKKNNqUwIBwo"
      },
      "source": [
        "df.to_csv('/content/drive/MyDrive/Colab Notebooks/PLN/Colombia/Paro_Nacional_sentiment.csv', index=False, encoding='utf-8')"
      ],
      "execution_count": null,
      "outputs": []
    },
    {
      "cell_type": "markdown",
      "metadata": {
        "id": "3gcLeN3LIBwo"
      },
      "source": [
        "Segunda forma de ejecutar el análisis (métodos)"
      ]
    },
    {
      "cell_type": "code",
      "metadata": {
        "id": "p3JFHrJYIBwp"
      },
      "source": [
        "def f_prediction(row):\n",
        "  text = row['Text']\n",
        "  textConvert = vect.transform([text]) \n",
        "  return label[clf.predict(textConvert)[0]]"
      ],
      "execution_count": null,
      "outputs": []
    },
    {
      "cell_type": "code",
      "metadata": {
        "id": "cjWWNTmiIBwp"
      },
      "source": [
        "def f_probability(row):\n",
        "  text = row['Text']\n",
        "  textConvert = vect.transform([text]) \n",
        "  return np.max(clf.predict_proba(textConvert))*100"
      ],
      "execution_count": null,
      "outputs": []
    },
    {
      "cell_type": "code",
      "metadata": {
        "id": "3-TQqRBcIBwq"
      },
      "source": [
        "df[\"sentiment\"] = df.apply(f_prediction, axis=1) # recorriendo columnas\n",
        "df[\"probability\"] = df.apply(f_probability, axis=1) # recorriendo columnas"
      ],
      "execution_count": null,
      "outputs": []
    },
    {
      "cell_type": "code",
      "metadata": {
        "colab": {
          "base_uri": "https://localhost:8080/",
          "height": 382
        },
        "id": "JYpLiybkIBwq",
        "outputId": "8aac75ec-a796-4d01-fd66-5fa5d5acfe48"
      },
      "source": [
        "import matplotlib.pyplot as plt\n",
        "\n",
        "df.groupby('sentiment')['Location'].nunique().plot(kind='bar')\n",
        "print(df.groupby(['sentiment']).size())\n",
        "plt.show()"
      ],
      "execution_count": null,
      "outputs": [
        {
          "output_type": "stream",
          "text": [
            "sentiment\n",
            "Negativo     891\n",
            "Positivo    4109\n",
            "dtype: int64\n"
          ],
          "name": "stdout"
        },
        {
          "output_type": "display_data",
          "data": {
            "image/png": "[encoded data removed]",
            "text/plain": [
              "<Figure size 432x288 with 1 Axes>"
            ]
          },
          "metadata": {
            "tags": [],
            "needs_background": "light"
          }
        }
      ]
    },
    {
      "cell_type": "markdown",
      "metadata": {
        "id": "D0lpG-3ZUP01"
      },
      "source": [
        "## Hacer uso de SQLite"
      ]
    },
    {
      "cell_type": "markdown",
      "metadata": {
        "id": "WkTU1YePRNpU"
      },
      "source": [
        "### Generar DB de sqlite"
      ]
    },
    {
      "cell_type": "code",
      "metadata": {
        "id": "pUzJBS6BSdlG"
      },
      "source": [
        "import sqlite3\n",
        "import os\n",
        "\n",
        "if os.path.exists('tweets.sqlite'):\n",
        "    os.remove('tweets.sqlite')\n",
        "\n",
        "conn = sqlite3.connect('tweets.sqlite')\n",
        "c = conn.cursor()\n",
        "c.execute('CREATE TABLE tweets_db (tweet TEXT, sentiment INTEGER, date TEXT)')\n",
        "\n",
        "example1 = 'que aburrido es estar en cuarentena…'\n",
        "c.execute(\"INSERT INTO tweets_db (tweet, sentiment, date) VALUES (?, ?, DATETIME('now'))\", (example1, 2))\n",
        "\n",
        "example2 = 'Estoy feliz de estar con mi familia'\n",
        "c.execute(\"INSERT INTO tweets_db (tweet, sentiment, date) VALUES (?, ?, DATETIME('now'))\", (example2, 1))\n",
        "\n",
        "conn.commit()\n",
        "conn.close()"
      ],
      "execution_count": null,
      "outputs": []
    },
    {
      "cell_type": "markdown",
      "metadata": {
        "id": "UIJU_R1KUEhH"
      },
      "source": [
        "### Consultar la DB"
      ]
    },
    {
      "cell_type": "code",
      "metadata": {
        "colab": {
          "base_uri": "https://localhost:8080/"
        },
        "id": "73w5KPeNUGUi",
        "outputId": "f36e34c4-231d-439a-9461-34f0529a6fe7"
      },
      "source": [
        "conn = sqlite3.connect('tweets.sqlite')\n",
        "c = conn.cursor()\n",
        "\n",
        "c.execute(\"SELECT * FROM tweets_db WHERE date BETWEEN '2019-01-01 10:10:10' AND DATETIME('now')\")\n",
        "results = c.fetchall()\n",
        "conn.close()\n",
        "\n",
        "print(results)"
      ],
      "execution_count": null,
      "outputs": [
        {
          "output_type": "stream",
          "text": [
            "[('que aburrido es estar en cuarentena…', 2, '2021-05-15 05:01:35'), ('Estoy feliz de estar con mi familia', 1, '2021-05-15 05:01:35')]\n"
          ],
          "name": "stdout"
        }
      ]
    }
  ]
}
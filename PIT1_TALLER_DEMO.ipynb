{
  "nbformat": 4,
  "nbformat_minor": 0,
  "metadata": {
    "colab": {
      "name": "PIT1_TALLER_DEMO.ipynb",
      "provenance": [],
      "collapsed_sections": [],
      "toc_visible": true
    },
    "kernelspec": {
      "name": "python3",
      "display_name": "Python 3"
    }
  },
  "cells": [
    {
      "cell_type": "markdown",
      "metadata": {
        "id": "ChK3Lq3m1t3c"
      },
      "source": [
        "#Ejercicio 1"
      ]
    },
    {
      "cell_type": "markdown",
      "metadata": {
        "id": "PfNro9C090nZ"
      },
      "source": [
        "Busca el mayor de 3 numeros\r\n",
        "**Metodo Clasico**"
      ]
    },
    {
      "cell_type": "code",
      "metadata": {
        "colab": {
          "base_uri": "https://localhost:8080/"
        },
        "id": "H8lRtx2Yxzwt",
        "outputId": "330c0be4-95d7-4f89-a45d-40988d46bfa0"
      },
      "source": [
        "var1=int(input(\"Ingresa el valor de la 1 variable: \"))\r\n",
        "var2=int(input(\"Ingresa el valor de la 1 variable: \"))\r\n",
        "var3=int(input(\"Ingresa el valor de la 1 variable: \"))\r\n",
        "if (var1>var2 and var1>var3):\r\n",
        "  print(\"el mayor es :\"+str(var1))\r\n",
        "elif (var2>var1 and var2>var3):\r\n",
        "  print(\"El mayor es: \"+str(var2))\r\n",
        "elif (var3>var1 and var3>var2):\r\n",
        "  print(\"El mayor es: \"+str(var3))"
      ],
      "execution_count": 43,
      "outputs": [
        {
          "output_type": "stream",
          "text": [
            "Ingresa el valor de la 1 variable: 6\n",
            "Ingresa el valor de la 1 variable: 5\n",
            "Ingresa el valor de la 1 variable: 4\n",
            "el mayor es :6\n"
          ],
          "name": "stdout"
        }
      ]
    },
    {
      "cell_type": "markdown",
      "metadata": {
        "id": "eYtzEzMs0BvZ"
      },
      "source": [
        "**Metodo python**"
      ]
    },
    {
      "cell_type": "code",
      "metadata": {
        "colab": {
          "base_uri": "https://localhost:8080/"
        },
        "id": "h1bbCY5Y0FEz",
        "outputId": "840807ae-c30b-49df-8d8f-f689b2c2b2b3"
      },
      "source": [
        "var1, var2, var3= input (\"Ingrese los 3 numeros separados por coma NO SEA GIL:\").split(\",\")\r\n",
        "print(\"El numero maximo es: \"+ str(max(var1,var2,var3)))"
      ],
      "execution_count": 6,
      "outputs": [
        {
          "output_type": "stream",
          "text": [
            "Ingrese los 3 numeros separados por coma NO SEA GIL:5,4,3\n",
            "El numero maximo es: 5\n"
          ],
          "name": "stdout"
        }
      ]
    },
    {
      "cell_type": "markdown",
      "metadata": {
        "id": "YcgQPOhS11aP"
      },
      "source": [
        "#Ejercicio 2"
      ]
    },
    {
      "cell_type": "markdown",
      "metadata": {
        "id": "UPisvtet2Ord"
      },
      "source": [
        "Suma de n numeros\r\n",
        "\r\n",
        "\r\n",
        "**Metodo clasico**\r\n",
        "\r\n"
      ]
    },
    {
      "cell_type": "code",
      "metadata": {
        "colab": {
          "base_uri": "https://localhost:8080/"
        },
        "id": "ZJAwQJ6w2HWZ",
        "outputId": "f504c9a2-ed8e-4c9d-e404-0d1ef286211b"
      },
      "source": [
        "tot=int(input(\"Ingresa la catindad N de numeros: \"))\r\n",
        "suma=0\r\n",
        "for i in range(0,tot):\r\n",
        " suma+=int(input(\"Ingrese el valor del numumero \"+ str(i)+\": \"))\r\n",
        "print(\"El total es : \"+str(suma))"
      ],
      "execution_count": 44,
      "outputs": [
        {
          "output_type": "stream",
          "text": [
            "Ingresa la catindad N de numeros: 6\n",
            "Ingrese el valor del numumero 0: 2\n",
            "Ingrese el valor del numumero 1: 4\n",
            "Ingrese el valor del numumero 2: 6\n",
            "Ingrese el valor del numumero 3: 8\n",
            "Ingrese el valor del numumero 4: 9\n",
            "Ingrese el valor del numumero 5: 7\n",
            "El total es : 36\n"
          ],
          "name": "stdout"
        }
      ]
    },
    {
      "cell_type": "markdown",
      "metadata": {
        "id": "MxmEEo3k2S0t"
      },
      "source": [
        "**Metodo Python **"
      ]
    },
    {
      "cell_type": "code",
      "metadata": {
        "colab": {
          "base_uri": "https://localhost:8080/"
        },
        "id": "fwVdn17f2W0a",
        "outputId": "a0a7e5a8-902d-4416-9a60-f92e4df59310"
      },
      "source": [
        "suma=0\r\n",
        "for i in range(0, int(input(\"Ingrese la cantidad N de numeros: \"))):\r\n",
        "  suma+=int(input(\"Ingrese el valor del numero\"+str(i)+\":\"))\r\n",
        "print(\"El total es: \"+str(suma))"
      ],
      "execution_count": 45,
      "outputs": [
        {
          "output_type": "stream",
          "text": [
            "Ingrese la cantidad N de numeros: 6\n",
            "Ingrese el valor del numero0:2\n",
            "Ingrese el valor del numero1:4\n",
            "Ingrese el valor del numero2:6\n",
            "Ingrese el valor del numero3:8\n",
            "Ingrese el valor del numero4:9\n",
            "Ingrese el valor del numero5:7\n",
            "El total es: 36\n"
          ],
          "name": "stdout"
        }
      ]
    },
    {
      "cell_type": "markdown",
      "metadata": {
        "id": "MFTol2jE2csT"
      },
      "source": [
        "#Ejercicio 3"
      ]
    },
    {
      "cell_type": "markdown",
      "metadata": {
        "id": "twHE8NBM2iSC"
      },
      "source": [
        "Programa de los numeros pares comprendidos entre xi - xf\r\n",
        "\r\n",
        "**Metodo clasico.**"
      ]
    },
    {
      "cell_type": "code",
      "metadata": {
        "colab": {
          "base_uri": "https://localhost:8080/"
        },
        "id": "wgpknulX2sGK",
        "outputId": "76ddb121-2582-47ac-a91d-ee8afa0aaf85"
      },
      "source": [
        "inicio=int(input(\"Numero minimo: \"))\r\n",
        "fin=int(input(\"Numero final: \"))\r\n",
        "for i in range(inicio,fin):\r\n",
        "  if((i%2)==0):\r\n",
        "    print(\"El numero par: \"+str(i))"
      ],
      "execution_count": 10,
      "outputs": [
        {
          "output_type": "stream",
          "text": [
            "Numero minimo: 2\n",
            "Numero final: 20\n",
            "El numero par: 2\n",
            "El numero par: 4\n",
            "El numero par: 6\n",
            "El numero par: 8\n",
            "El numero par: 10\n",
            "El numero par: 12\n",
            "El numero par: 14\n",
            "El numero par: 16\n",
            "El numero par: 18\n"
          ],
          "name": "stdout"
        }
      ]
    },
    {
      "cell_type": "markdown",
      "metadata": {
        "id": "yxf0r1SB3Atl"
      },
      "source": [
        "**Metodo Python**"
      ]
    },
    {
      "cell_type": "code",
      "metadata": {
        "colab": {
          "base_uri": "https://localhost:8080/"
        },
        "id": "OxSSPN4N2-AS",
        "outputId": "8770fecf-d078-43dd-985a-c3955b0e6c86"
      },
      "source": [
        "for i in range(int(input(\"Numero minimo: \")),int(input(\"Numero final: \"))):\r\n",
        "  if((i%2)==0): print(\"El numero par :\"+str(i))"
      ],
      "execution_count": 11,
      "outputs": [
        {
          "output_type": "stream",
          "text": [
            "Numero minimo: 2\n",
            "Numero final: 20\n",
            "El numero par :2\n",
            "El numero par :4\n",
            "El numero par :6\n",
            "El numero par :8\n",
            "El numero par :10\n",
            "El numero par :12\n",
            "El numero par :14\n",
            "El numero par :16\n",
            "El numero par :18\n"
          ],
          "name": "stdout"
        }
      ]
    },
    {
      "cell_type": "markdown",
      "metadata": {
        "id": "6gE4Dq3e3LBz"
      },
      "source": [
        "# Ejercicio 4"
      ]
    },
    {
      "cell_type": "markdown",
      "metadata": {
        "id": "iHqkT9XJ3OvK"
      },
      "source": [
        "Programa que me visualiza dos listas concatenadas.\r\n",
        "\r\n",
        "\r\n",
        "-Numeros sean de 1 al 12\r\n",
        "-Numeros sean del 12 al 1"
      ]
    },
    {
      "cell_type": "markdown",
      "metadata": {
        "id": "_0kq2Jxj3Yrt"
      },
      "source": [
        "**Metodo clasico**"
      ]
    },
    {
      "cell_type": "code",
      "metadata": {
        "colab": {
          "base_uri": "https://localhost:8080/"
        },
        "id": "HAZrNaAx3VKE",
        "outputId": "72b63f24-c360-489b-d6ae-90b84499bfb5"
      },
      "source": [
        "rango1=list(range(1,13))\r\n",
        "rango2=list(range(12,0,-1))\r\n",
        "print(rango1 + rango2)"
      ],
      "execution_count": 23,
      "outputs": [
        {
          "output_type": "stream",
          "text": [
            "[1, 2, 3, 4, 5, 6, 7, 8, 9, 10, 11, 12, 12, 11, 10, 9, 8, 7, 6, 5, 4, 3, 2, 1]\n"
          ],
          "name": "stdout"
        }
      ]
    },
    {
      "cell_type": "markdown",
      "metadata": {
        "id": "8lqo9PAp3b8u"
      },
      "source": [
        "**Metodo Python**\r\n"
      ]
    },
    {
      "cell_type": "code",
      "metadata": {
        "colab": {
          "base_uri": "https://localhost:8080/"
        },
        "id": "1dER40n13e1K",
        "outputId": "10c2fc43-90c1-4b2f-bea0-e17ed0562642"
      },
      "source": [
        "lista=list(range(1,13))\r\n",
        "print(lista+lista[::-1])"
      ],
      "execution_count": 24,
      "outputs": [
        {
          "output_type": "stream",
          "text": [
            "[1, 2, 3, 4, 5, 6, 7, 8, 9, 10, 11, 12, 12, 11, 10, 9, 8, 7, 6, 5, 4, 3, 2, 1]\n"
          ],
          "name": "stdout"
        }
      ]
    },
    {
      "cell_type": "markdown",
      "metadata": {
        "id": "dt8X0u1b4lGU"
      },
      "source": [
        "# Ejercicio 5"
      ]
    },
    {
      "cell_type": "markdown",
      "metadata": {
        "id": "RhOfDOTQ4w_x"
      },
      "source": [
        "Lista 10 numeros aleatorios comprendidos entre 1 y 100"
      ]
    },
    {
      "cell_type": "code",
      "metadata": {
        "colab": {
          "base_uri": "https://localhost:8080/"
        },
        "id": "Xm5ck_6D4rug",
        "outputId": "1189aa2f-a0ce-4874-c812-5cb00c4147f7"
      },
      "source": [
        "# Método Clásico\r\n",
        "import random\r\n",
        "\r\n",
        "lista = [random.randrange(100) for i in range(10)]\r\n",
        "print(lista)"
      ],
      "execution_count": 14,
      "outputs": [
        {
          "output_type": "stream",
          "text": [
            "[95, 60, 61, 7, 6, 43, 30, 28, 13, 74]\n"
          ],
          "name": "stdout"
        }
      ]
    },
    {
      "cell_type": "code",
      "metadata": {
        "colab": {
          "base_uri": "https://localhost:8080/"
        },
        "id": "u0lWSjku40J2",
        "outputId": "c8879f72-c6d0-4d6e-d30a-073c4e699add"
      },
      "source": [
        "# Método Python\r\n",
        "import random\r\n",
        "\r\n",
        "for i in range(10): print(random.randrange(100))"
      ],
      "execution_count": 15,
      "outputs": [
        {
          "output_type": "stream",
          "text": [
            "21\n",
            "22\n",
            "40\n",
            "2\n",
            "52\n",
            "82\n",
            "38\n",
            "13\n",
            "93\n",
            "14\n"
          ],
          "name": "stdout"
        }
      ]
    },
    {
      "cell_type": "markdown",
      "metadata": {
        "id": "nbzgmd2T55aV"
      },
      "source": [
        "# Ejercicio 6"
      ]
    },
    {
      "cell_type": "markdown",
      "metadata": {
        "id": "EAOsuJ8O6DrS"
      },
      "source": [
        "Diseñe un programa que genere un listado con las edades de N habitantes de una ciudad, donde la cantidad de habitantes sea un valor random entre 1000 y 50000, y la edad de cada persona también un random entre 1 y 100 años. Al final del programa, indicar cuanto es la población total y el porcentaje de cuántos son mayores de edad (>=18) y cuántos no."
      ]
    },
    {
      "cell_type": "code",
      "metadata": {
        "colab": {
          "base_uri": "https://localhost:8080/"
        },
        "id": "NYMKxSu059D9",
        "outputId": "bec52567-9292-44b6-cd32-c021ae538a64"
      },
      "source": [
        "#metodo \r\n",
        "\r\n",
        "from random import randint\r\n",
        "\r\n",
        "poblacion = [randint(1,100) for x in range(randint(10000,50000))]\r\n",
        "menores = [edad for edad in poblacion if edad < 18]\r\n",
        "print(\"Habitantes: \" + str(len(poblacion)) + \r\n",
        "      \"\\n Menores de 18= \" + str(len(menores)) + \", con un porcentaje de: \" + str(len(menores)*100/len(poblacion)) + \"%\" + \r\n",
        "      \"\\n Mayores de edad= \" + str(len(poblacion)-len(menores)) + \", con un porcentaje de: \" + str((len(poblacion)-len(menores))*100/len(poblacion)) + \"%\")\r\n",
        "\r\n"
      ],
      "execution_count": 21,
      "outputs": [
        {
          "output_type": "stream",
          "text": [
            "Habitantes: 49645\n",
            " Menores de 18= 8377, con un porcentaje de: 16.873804008460066%\n",
            " Mayores de edad= 41268, con un porcentaje de: 83.12619599153993%\n"
          ],
          "name": "stdout"
        }
      ]
    },
    {
      "cell_type": "markdown",
      "metadata": {
        "id": "gQYdbxZm6q9j"
      },
      "source": [
        "# Ejercicio 7"
      ]
    },
    {
      "cell_type": "markdown",
      "metadata": {
        "id": "D0APuzPW6v2S"
      },
      "source": [
        "\r\n",
        "El Objeto Array Numpy (Computación científica)"
      ]
    },
    {
      "cell_type": "code",
      "metadata": {
        "id": "Njmo0ZSu6u78"
      },
      "source": [
        "import numpy as np\r\n",
        "from random import randint\r\n",
        " \r\n",
        "matriz = np.array([[i+1, randint(10000,70000)] for i in range(10)])\r\n",
        "print(matriz)"
      ],
      "execution_count": null,
      "outputs": []
    },
    {
      "cell_type": "markdown",
      "metadata": {
        "id": "2UvxFOil66LN"
      },
      "source": [
        "Diseñe un programa (máx 5 líneas) donde 6 candidatos se disputan la alcaldía. Los partidos políticos son:\r\n",
        "\r\n",
        "   * 1 Socio-democrático\r\n",
        "   * 2 Ultra-derecha\r\n",
        "   * 3 Primero los ricos\r\n",
        "   * 4 Centro corrupto\r\n",
        "   * 5 Cambio invertido\r\n",
        "   * 6 Alianza pobre\r\n",
        "Los votos de cada candidatos son generados de forma random entre 1 y 25000 votos máximo, el software debe determinar quien fue el ganador."
      ]
    },
    {
      "cell_type": "code",
      "metadata": {
        "colab": {
          "base_uri": "https://localhost:8080/"
        },
        "id": "Vx_HY-i06714",
        "outputId": "0133672d-a219-4a06-db1b-013322bf5eb1"
      },
      "source": [
        "import numpy as np\r\n",
        "from random import randint\r\n",
        "matriz = np.array([[i+1, randint(1,25000)] for i in range(6)])\r\n",
        "ganador = np.where(matriz[:,1] == matriz[:,1].max())\r\n",
        "print(\"El ganador es: \" + str(matriz[ganador[0]]) + \"\\n\\n Las votaciones fueron: \\n\" + str(matriz))"
      ],
      "execution_count": 25,
      "outputs": [
        {
          "output_type": "stream",
          "text": [
            "El ganador es: [[    3 16758]]\n",
            "\n",
            " Las votaciones fueron: \n",
            "[[    1  5901]\n",
            " [    2 11274]\n",
            " [    3 16758]\n",
            " [    4  8116]\n",
            " [    5  5599]\n",
            " [    6  4310]]\n"
          ],
          "name": "stdout"
        }
      ]
    },
    {
      "cell_type": "markdown",
      "metadata": {
        "id": "s83xHSK87Zee"
      },
      "source": [
        "# Ejercicio 8"
      ]
    },
    {
      "cell_type": "markdown",
      "metadata": {
        "id": "yZ0q3aZ97c1b"
      },
      "source": [
        "Diseñe un programa donde 6 candidatos se presentan a la disputa de la Gobernación, los candidatos son de los siguientes partidos:\r\n",
        "\r\n",
        "   * 1 Socio-democrático\r\n",
        "   * 2 Ultra-derecha\r\n",
        "   * 3 Primero los ricos\r\n",
        "   * 4 Centro corrupto\r\n",
        "   * 5 Cambio invertido\r\n",
        "   * 6 Alianza pobre\r\n",
        "\r\n",
        "Los votos de los candidatos son generados de manera random entre 1 y 4500 votos máximo para cada uno de los 123 municipios del departamento, el software debe determinar quien fue el ganador.\r\n",
        "\r\n",
        "Consejo: Crear una matriz para los votos, compuesta de 123 filas y 6 columnas, cuyo valor sea random entre 1 y 4500"
      ]
    },
    {
      "cell_type": "code",
      "metadata": {
        "colab": {
          "base_uri": "https://localhost:8080/"
        },
        "id": "pAAeHoaZ7lIa",
        "outputId": "9e2534df-fb32-45ac-e43e-82dd3b4fd817"
      },
      "source": [
        "import numpy as np\r\n",
        "from random import randint\r\n",
        "votos = np.random.randint(4500, size=(123,6))\r\n",
        "total_votos = np.array([[candidato+1, votos[:,candidato].sum()] for candidato in range(len(votos[0]))])\r\n",
        "ganador = np.where(total_votos == total_votos[:,1].max())\r\n",
        "print(\"El candidato ganador fue: \" + str(total_votos[ganador[0]]) + \"\\n\\n La votación fue la siguiente: \\n\" + str(total_votos))"
      ],
      "execution_count": 28,
      "outputs": [
        {
          "output_type": "stream",
          "text": [
            "El candidato ganador fue: [[     4 307334]]\n",
            "\n",
            " La votación fue la siguiente: \n",
            "[[     1 249312]\n",
            " [     2 254419]\n",
            " [     3 267998]\n",
            " [     4 307334]\n",
            " [     5 272991]\n",
            " [     6 276459]]\n"
          ],
          "name": "stdout"
        }
      ]
    },
    {
      "cell_type": "markdown",
      "metadata": {
        "id": "qCl84bfL79Y5"
      },
      "source": [
        "# Ejercicio 9"
      ]
    },
    {
      "cell_type": "markdown",
      "metadata": {
        "id": "jDBYrNiO8Be1"
      },
      "source": [
        "Crear un programa para simular una carrera de F1, en dónde existen 5 vehículos:\r\n",
        "\r\n",
        "\r\n",
        "   1 Renault\r\n",
        "   2 Ferrari\r\n",
        "   3 Mercedez\r\n",
        "   4 Ford\r\n",
        "   5 Red Bull\r\n",
        "\r\n",
        "\r\n",
        "La carrera esta diseñada para 4 vueltas donde el tiempo mínimo es de 8.2 segundos y el máximo es de 10 segundos. Diseñe la matriz 4x5 donde el determine cual es el vehículo ganador, y los tiempos de cada vehículo por vuelta en random."
      ]
    },
    {
      "cell_type": "code",
      "metadata": {
        "colab": {
          "base_uri": "https://localhost:8080/"
        },
        "id": "sd3NNbHT8AlC",
        "outputId": "68baf63c-e80f-42b5-c5b3-9199ab2140d3"
      },
      "source": [
        "import numpy as np\r\n",
        "from random import uniform\r\n",
        "matriz = np.random.uniform(8.2, 10, size=(4,5))\r\n",
        "total_vueltas = np.array([[corredor+1, matriz[:,corredor].sum()] for corredor in range(len(matriz[0]))])\r\n",
        "ganador = np.where(matriz == matriz[:,1].min())\r\n",
        "print(\"Ganador de la carrera: \" + str(total_vueltas[ganador[0]]) + \"\\n\\n Resultados de la carrera: \\n\" + str(matriz))"
      ],
      "execution_count": 34,
      "outputs": [
        {
          "output_type": "stream",
          "text": [
            "Ganador de la carrera: [[ 4.         38.34834226]]\n",
            "\n",
            " Resultados de la carrera: \n",
            "[[9.55256163 8.44462356 9.77284834 9.86259858 9.2482501 ]\n",
            " [8.8844133  9.82959517 8.35556691 8.97283457 8.84708096]\n",
            " [9.24489312 8.69737378 9.69415329 9.67654138 8.90411587]\n",
            " [9.43135955 8.27491806 9.27287733 9.83636772 9.83839774]]\n"
          ],
          "name": "stdout"
        }
      ]
    },
    {
      "cell_type": "markdown",
      "metadata": {
        "id": "ZAA2iDLD8feB"
      },
      "source": [
        "# Ejercicio 10"
      ]
    },
    {
      "cell_type": "markdown",
      "metadata": {
        "id": "cnheItIw8w5D"
      },
      "source": [
        "\r\n",
        "Matplotlib (Biblioteca de gráficos 2D en Python)\r\n",
        "\r\n",
        "Esta biblioteca puede generar gráficos como histogramas, espectros de potencia, de barras, de error, de dispersión, etc., con pocas lineas de código. Para un trazado simple, el módulo matplotlib.pyplot proporciona una interfaz gráfica similar a MATLAB, particularmente cuando se combina con IPython.\r\n",
        "\r\n",
        "Ejemplo de aplicación:\r\n"
      ]
    },
    {
      "cell_type": "code",
      "metadata": {
        "colab": {
          "base_uri": "https://localhost:8080/",
          "height": 265
        },
        "id": "r7Bd9NeU8lE0",
        "outputId": "e3524c35-75ce-4993-e9ba-31bf5ed2f682"
      },
      "source": [
        "import matplotlib.pyplot as plt\r\n",
        "plt.plot([10,20,30,40,30,20,20,20,10,0])\r\n",
        "plt.ylabel(\"Gráfico Básico\")\r\n",
        "plt.show()"
      ],
      "execution_count": 37,
      "outputs": [
        {
          "output_type": "display_data",
          "data": {
            "image/png": "[encoded data removed]",
            "text/plain": [
              "<Figure size 432x288 with 1 Axes>"
            ]
          },
          "metadata": {
            "tags": [],
            "needs_background": "light"
          }
        }
      ]
    },
    {
      "cell_type": "code",
      "metadata": {
        "colab": {
          "base_uri": "https://localhost:8080/",
          "height": 265
        },
        "id": "1AldUi-a80fi",
        "outputId": "9a0ff174-5414-47fd-f2e0-af921fd7efe4"
      },
      "source": [
        "import matplotlib.pyplot as plt\r\n",
        "import random\r\n",
        "lista = [random.randrange(10) for i in range(10)]\r\n",
        "plt.plot(lista, 'ro')\r\n",
        "plt.ylabel(\"Números random de 0 a 10\")\r\n",
        "plt.show()"
      ],
      "execution_count": 40,
      "outputs": [
        {
          "output_type": "display_data",
          "data": {
            "image/png": "[encoded data removed]",
            "text/plain": [
              "<Figure size 432x288 with 1 Axes>"
            ]
          },
          "metadata": {
            "tags": [],
            "needs_background": "light"
          }
        }
      ]
    },
    {
      "cell_type": "markdown",
      "metadata": {
        "id": "bNcxHRj38yn8"
      },
      "source": [
        "Ejercicio 10\r\n",
        "\r\n",
        "Visualice en gráficos de dispersión [pylot(scatter)] o de barras tomando los valores obtenidos en los ejercicios:\r\n",
        "\r\n",
        "    * Numpy, Ejercicio 1 (Alcaldes) -> Barras\r\n",
        "    * Numpy, Ejercicio 3 (F1) -> Dispersión (colores por vehículo)\r\n"
      ]
    },
    {
      "cell_type": "code",
      "metadata": {
        "colab": {
          "base_uri": "https://localhost:8080/",
          "height": 375
        },
        "id": "uSTEkYDC9AVV",
        "outputId": "43c2fddf-bc35-491d-a8a3-92275d080046"
      },
      "source": [
        "### Numpy, Ejercicio 10(Alcaldes), Diagrama de Barras\r\n",
        "\r\n",
        "import numpy as np\r\n",
        "from random import randint\r\n",
        "import matplotlib.pyplot as plt\r\n",
        "\r\n",
        "# Votaciones\r\n",
        "matriz = np.array([[i+1, randint(1,20000)] for i in range(6)])\r\n",
        "ganador = np.where(matriz == matriz[:,1].max())\r\n",
        "# Diagrama de Barras\r\n",
        "fig = plt.figure('Gráfica de Barras') # Generación de Ventana\r\n",
        "ax = fig.add_subplot(1,1,1) # Un eje coordenado\r\n",
        "nombres = ['1. Socio-democrático', '2. Ultra-derecha', '3. Primero los ricos', '4. Centro corrupto', '5. Cambio invertido', '6. Alianza pobre']\r\n",
        "\r\n",
        "ax.bar(range(len(matriz)), matriz[:,1]) # Función bar para diagramar, con parametros de votos y puntos a ubicar\r\n",
        "ax.set_xticks(range(len(matriz[:,1]))) # Número de puntos a ubicar\r\n",
        "ax.set_xticklabels(nombres, rotation='vertical') # Agregar etiquetas a cada punto ubicado en el eje x\r\n",
        "\r\n",
        "plt.ylabel('Total votos')\r\n",
        "plt.xlabel('Candidatos')\r\n",
        "plt.show()\r\n",
        "\r\n"
      ],
      "execution_count": 41,
      "outputs": [
        {
          "output_type": "display_data",
          "data": {
            "image/png": "[encoded data removed]",
            "text/plain": [
              "<Figure size 432x288 with 1 Axes>"
            ]
          },
          "metadata": {
            "tags": [],
            "needs_background": "light"
          }
        }
      ]
    },
    {
      "cell_type": "code",
      "metadata": {
        "colab": {
          "base_uri": "https://localhost:8080/",
          "height": 432
        },
        "id": "8L8OR0yN9PzH",
        "outputId": "be9026e3-a0e6-4240-ebcd-6aad65eb7071"
      },
      "source": [
        "### Numpy, Ejercicio 3(F1), Diagrama de Dispersión\r\n",
        "\r\n",
        "import numpy as np\r\n",
        "import matplotlib.pyplot as plt\r\n",
        "\r\n",
        "# Vehículos\r\n",
        "matriz = np.random.uniform(8.2, 10, size=(4,5))\r\n",
        "total_vueltas = np.array([[corredor+1, matriz[:,corredor].sum()] for corredor in range(len(matriz[0]))])\r\n",
        "ganador = np.where(matriz == matriz[:,1].min())\r\n",
        "print(\"El ganador fue : \" + str(total_vueltas[ganador[0]]) + \"\\n\\n  El tiempo total por corredor fue de: \\n\" + str(total_vueltas))\r\n",
        "\r\n",
        "# Diagrama de dispersión\r\n",
        "x = total_vueltas[:,1]\r\n",
        "y = total_vueltas[:,0]\r\n",
        "fig = plt.figure()\r\n",
        "fig.add_subplot(111) \r\n",
        "plt.xlabel('Corredores')\r\n",
        "plt.ylabel('Total Tiempo')\r\n",
        "plt.scatter(y, x, c=x)\r\n",
        "plt.show"
      ],
      "execution_count": 42,
      "outputs": [
        {
          "output_type": "stream",
          "text": [
            "El ganador fue : [[ 4.         37.71650432]]\n",
            "\n",
            "  El tiempo total por corredor fue de: \n",
            "[[ 1.         36.35279899]\n",
            " [ 2.         34.80891023]\n",
            " [ 3.         37.00528327]\n",
            " [ 4.         37.71650432]\n",
            " [ 5.         37.50980468]]\n"
          ],
          "name": "stdout"
        },
        {
          "output_type": "execute_result",
          "data": {
            "text/plain": [
              "<function matplotlib.pyplot.show>"
            ]
          },
          "metadata": {
            "tags": []
          },
          "execution_count": 42
        },
        {
          "output_type": "display_data",
          "data": {
            "image/png": "[encoded data removed]",
            "text/plain": [
              "<Figure size 432x288 with 1 Axes>"
            ]
          },
          "metadata": {
            "tags": [],
            "needs_background": "light"
          }
        }
      ]
    }
  ]
}